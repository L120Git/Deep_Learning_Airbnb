{
  "cells": [
    {
      "cell_type": "markdown",
      "metadata": {
        "id": "view-in-github",
        "colab_type": "text"
      },
      "source": [
        "<a href=\"https://colab.research.google.com/github/L120Git/Deep_Learning_Airbnb/blob/main/Deep_Learning_LauraCast.ipynb\" target=\"_parent\"><img src=\"https://colab.research.google.com/assets/colab-badge.svg\" alt=\"Open In Colab\"/></a>"
      ]
    },
    {
      "cell_type": "code",
      "execution_count": null,
      "metadata": {
        "id": "T-yvnwNBy8vs"
      },
      "outputs": [],
      "source": [
        "!pip install -q keras"
      ]
    },
    {
      "cell_type": "code",
      "execution_count": null,
      "metadata": {
        "id": "YrUDYOXA8tRv"
      },
      "outputs": [],
      "source": [
        "import numpy as np\n",
        "import pandas as pd\n",
        "#para representar la matriz de correlación\n",
        "import seaborn as sns\n",
        "#para descargar las imagenes\n",
        "import imageio as io\n",
        "import cv2\n",
        "#para representar gráficas\n",
        "import matplotlib.pyplot as plt\n",
        "\n",
        "#para preprocesar\n",
        "from sklearn import preprocessing\n",
        "#para dividir los datos\n",
        "from sklearn.model_selection import train_test_split\n",
        "#para entrar redes\n",
        "import tensorflow as tf\n",
        "from tensorflow import keras\n",
        "#convertir un vector en una matriz binaria\n",
        "from keras.utils import to_categorical #no lo uso\n",
        "#para evaluar\n",
        "from sklearn.metrics import mean_squared_error\n",
        "from sklearn.metrics import mean_absolute_error\n",
        "\n",
        "import warnings\n",
        "warnings.filterwarnings('ignore')"
      ]
    },
    {
      "cell_type": "code",
      "execution_count": null,
      "metadata": {
        "colab": {
          "base_uri": "https://localhost:8080/"
        },
        "id": "11tGGRgrRodv",
        "outputId": "fcddb4df-1be9-4339-c50f-097d371fd0f0"
      },
      "outputs": [
        {
          "name": "stdout",
          "output_type": "stream",
          "text": [
            "--2023-02-28 11:51:26--  https://public.opendatasoft.com/explore/dataset/airbnb-listings/download/?format=csv&disjunctive.host_verifications=true&disjunctive.amenities=true&disjunctive.features=true&refine.country=Spain&q=Madrid&timezone=Europe/London&use_labels_for_header=true&csv_separator=%3B\n",
            "Resolving public.opendatasoft.com (public.opendatasoft.com)... 34.248.20.69, 34.249.199.226\n",
            "Connecting to public.opendatasoft.com (public.opendatasoft.com)|34.248.20.69|:443... connected.\n",
            "HTTP request sent, awaiting response... 200 OK\n",
            "Length: unspecified [application/csv]\n",
            "Saving to: ‘airbnb-listings.csv’\n",
            "\n",
            "airbnb-listings.csv     [   <=>              ]  54.31M   616KB/s    in 1m 44s  \n",
            "\n",
            "2023-02-28 11:53:21 (533 KB/s) - ‘airbnb-listings.csv’ saved [56950929]\n",
            "\n"
          ]
        }
      ],
      "source": [
        "# Nos descargamos el dataset de OpenDataSoft\n",
        "!wget -O \"airbnb-listings.csv\" \"https://public.opendatasoft.com/explore/dataset/airbnb-listings/download/?format=csv&disjunctive.host_verifications=true&disjunctive.amenities=true&disjunctive.features=true&refine.country=Spain&q=Madrid&timezone=Europe/London&use_labels_for_header=true&csv_separator=%3B\""
      ]
    },
    {
      "cell_type": "code",
      "execution_count": null,
      "metadata": {
        "colab": {
          "base_uri": "https://localhost:8080/",
          "height": 698
        },
        "id": "fHqnNEDmihhO",
        "outputId": "34a43397-51a1-4181-b4ff-d49f9a5dc290"
      },
      "outputs": [
        {
          "data": {
            "text/html": [
              "\n",
              "  <div id=\"df-a97975cb-1515-43dc-a27c-6146d37ffc40\">\n",
              "    <div class=\"colab-df-container\">\n",
              "      <div>\n",
              "<style scoped>\n",
              "    .dataframe tbody tr th:only-of-type {\n",
              "        vertical-align: middle;\n",
              "    }\n",
              "\n",
              "    .dataframe tbody tr th {\n",
              "        vertical-align: top;\n",
              "    }\n",
              "\n",
              "    .dataframe thead th {\n",
              "        text-align: right;\n",
              "    }\n",
              "</style>\n",
              "<table border=\"1\" class=\"dataframe\">\n",
              "  <thead>\n",
              "    <tr style=\"text-align: right;\">\n",
              "      <th></th>\n",
              "      <th>ID</th>\n",
              "      <th>Listing Url</th>\n",
              "      <th>Scrape ID</th>\n",
              "      <th>Last Scraped</th>\n",
              "      <th>Name</th>\n",
              "      <th>Summary</th>\n",
              "      <th>Space</th>\n",
              "      <th>Description</th>\n",
              "      <th>Experiences Offered</th>\n",
              "      <th>Neighborhood Overview</th>\n",
              "      <th>...</th>\n",
              "      <th>Review Scores Communication</th>\n",
              "      <th>Review Scores Location</th>\n",
              "      <th>Review Scores Value</th>\n",
              "      <th>License</th>\n",
              "      <th>Jurisdiction Names</th>\n",
              "      <th>Cancellation Policy</th>\n",
              "      <th>Calculated host listings count</th>\n",
              "      <th>Reviews per Month</th>\n",
              "      <th>Geolocation</th>\n",
              "      <th>Features</th>\n",
              "    </tr>\n",
              "  </thead>\n",
              "  <tbody>\n",
              "    <tr>\n",
              "      <th>0</th>\n",
              "      <td>15141125</td>\n",
              "      <td>https://www.airbnb.com/rooms/15141125</td>\n",
              "      <td>20170407214119</td>\n",
              "      <td>2017-04-08</td>\n",
              "      <td>Panoramic charming studio!</td>\n",
              "      <td>Charming bright and cosy studio in \"El Rastro\"...</td>\n",
              "      <td>It's a bright and cosy studio located in the h...</td>\n",
              "      <td>Charming bright and cosy studio in \"El Rastro\"...</td>\n",
              "      <td>none</td>\n",
              "      <td>The studio is located in the remarkable neighb...</td>\n",
              "      <td>...</td>\n",
              "      <td>10.0</td>\n",
              "      <td>10.0</td>\n",
              "      <td>10.0</td>\n",
              "      <td>NaN</td>\n",
              "      <td>NaN</td>\n",
              "      <td>moderate</td>\n",
              "      <td>2</td>\n",
              "      <td>5.11</td>\n",
              "      <td>40.40745268477803,-3.7079954754432634</td>\n",
              "      <td>Host Is Superhost,Host Has Profile Pic,Host Id...</td>\n",
              "    </tr>\n",
              "    <tr>\n",
              "      <th>1</th>\n",
              "      <td>9470166</td>\n",
              "      <td>https://www.airbnb.com/rooms/9470166</td>\n",
              "      <td>20170407214119</td>\n",
              "      <td>2017-04-08</td>\n",
              "      <td>Comfortable penthouse in the center</td>\n",
              "      <td>In the center, recently remodeled, comfortable...</td>\n",
              "      <td>Quiet and comfortable space where you can rela...</td>\n",
              "      <td>In the center, recently remodeled, comfortable...</td>\n",
              "      <td>none</td>\n",
              "      <td>It belongs to the district center of Madrid wh...</td>\n",
              "      <td>...</td>\n",
              "      <td>9.0</td>\n",
              "      <td>9.0</td>\n",
              "      <td>8.0</td>\n",
              "      <td>NaN</td>\n",
              "      <td>NaN</td>\n",
              "      <td>strict</td>\n",
              "      <td>13</td>\n",
              "      <td>5.88</td>\n",
              "      <td>40.40831556101927,-3.705006385704201</td>\n",
              "      <td>Host Has Profile Pic,Host Identity Verified,Re...</td>\n",
              "    </tr>\n",
              "    <tr>\n",
              "      <th>2</th>\n",
              "      <td>17444981</td>\n",
              "      <td>https://www.airbnb.com/rooms/17444981</td>\n",
              "      <td>20170407214119</td>\n",
              "      <td>2017-04-08</td>\n",
              "      <td>Cosy Apartment SOL/LA LATINA</td>\n",
              "      <td>Nice apartment near Sol and La Latina. Perfect...</td>\n",
              "      <td>Is a really cosy apartment with the best locat...</td>\n",
              "      <td>Nice apartment near Sol and La Latina. Perfect...</td>\n",
              "      <td>none</td>\n",
              "      <td>La Latina is well known by El Rastro, the most...</td>\n",
              "      <td>...</td>\n",
              "      <td>10.0</td>\n",
              "      <td>10.0</td>\n",
              "      <td>10.0</td>\n",
              "      <td>NaN</td>\n",
              "      <td>NaN</td>\n",
              "      <td>moderate</td>\n",
              "      <td>1</td>\n",
              "      <td>6.18</td>\n",
              "      <td>40.413722014584295,-3.7068231186536718</td>\n",
              "      <td>Host Has Profile Pic,Host Identity Verified,Re...</td>\n",
              "    </tr>\n",
              "    <tr>\n",
              "      <th>3</th>\n",
              "      <td>3284565</td>\n",
              "      <td>https://www.airbnb.com/rooms/3284565</td>\n",
              "      <td>20170407214119</td>\n",
              "      <td>2017-04-08</td>\n",
              "      <td>Alquiler Estudio Nuevo Madrid</td>\n",
              "      <td>Alquilo estudio en el centro de Madrid , total...</td>\n",
              "      <td>NaN</td>\n",
              "      <td>Alquilo estudio en el centro de Madrid , total...</td>\n",
              "      <td>none</td>\n",
              "      <td>NaN</td>\n",
              "      <td>...</td>\n",
              "      <td>10.0</td>\n",
              "      <td>9.0</td>\n",
              "      <td>9.0</td>\n",
              "      <td>NaN</td>\n",
              "      <td>NaN</td>\n",
              "      <td>strict</td>\n",
              "      <td>3</td>\n",
              "      <td>0.19</td>\n",
              "      <td>40.411263372718054,-3.6973054373712886</td>\n",
              "      <td>Host Has Profile Pic,Host Identity Verified,Is...</td>\n",
              "    </tr>\n",
              "    <tr>\n",
              "      <th>4</th>\n",
              "      <td>499911</td>\n",
              "      <td>https://www.airbnb.com/rooms/499911</td>\n",
              "      <td>20170407214119</td>\n",
              "      <td>2017-04-08</td>\n",
              "      <td>2 bedroom apartment downtown Madrid</td>\n",
              "      <td>NaN</td>\n",
              "      <td>Bright and airy apartment in Central Madrid re...</td>\n",
              "      <td>Bright and airy apartment in Central Madrid re...</td>\n",
              "      <td>none</td>\n",
              "      <td>NaN</td>\n",
              "      <td>...</td>\n",
              "      <td>10.0</td>\n",
              "      <td>10.0</td>\n",
              "      <td>10.0</td>\n",
              "      <td>NaN</td>\n",
              "      <td>NaN</td>\n",
              "      <td>strict</td>\n",
              "      <td>1</td>\n",
              "      <td>1.39</td>\n",
              "      <td>40.41255625665078,-3.701155364799422</td>\n",
              "      <td>Host Is Superhost,Host Has Profile Pic,Host Id...</td>\n",
              "    </tr>\n",
              "  </tbody>\n",
              "</table>\n",
              "<p>5 rows × 89 columns</p>\n",
              "</div>\n",
              "      <button class=\"colab-df-convert\" onclick=\"convertToInteractive('df-a97975cb-1515-43dc-a27c-6146d37ffc40')\"\n",
              "              title=\"Convert this dataframe to an interactive table.\"\n",
              "              style=\"display:none;\">\n",
              "        \n",
              "  <svg xmlns=\"http://www.w3.org/2000/svg\" height=\"24px\"viewBox=\"0 0 24 24\"\n",
              "       width=\"24px\">\n",
              "    <path d=\"M0 0h24v24H0V0z\" fill=\"none\"/>\n",
              "    <path d=\"M18.56 5.44l.94 2.06.94-2.06 2.06-.94-2.06-.94-.94-2.06-.94 2.06-2.06.94zm-11 1L8.5 8.5l.94-2.06 2.06-.94-2.06-.94L8.5 2.5l-.94 2.06-2.06.94zm10 10l.94 2.06.94-2.06 2.06-.94-2.06-.94-.94-2.06-.94 2.06-2.06.94z\"/><path d=\"M17.41 7.96l-1.37-1.37c-.4-.4-.92-.59-1.43-.59-.52 0-1.04.2-1.43.59L10.3 9.45l-7.72 7.72c-.78.78-.78 2.05 0 2.83L4 21.41c.39.39.9.59 1.41.59.51 0 1.02-.2 1.41-.59l7.78-7.78 2.81-2.81c.8-.78.8-2.07 0-2.86zM5.41 20L4 18.59l7.72-7.72 1.47 1.35L5.41 20z\"/>\n",
              "  </svg>\n",
              "      </button>\n",
              "      \n",
              "  <style>\n",
              "    .colab-df-container {\n",
              "      display:flex;\n",
              "      flex-wrap:wrap;\n",
              "      gap: 12px;\n",
              "    }\n",
              "\n",
              "    .colab-df-convert {\n",
              "      background-color: #E8F0FE;\n",
              "      border: none;\n",
              "      border-radius: 50%;\n",
              "      cursor: pointer;\n",
              "      display: none;\n",
              "      fill: #1967D2;\n",
              "      height: 32px;\n",
              "      padding: 0 0 0 0;\n",
              "      width: 32px;\n",
              "    }\n",
              "\n",
              "    .colab-df-convert:hover {\n",
              "      background-color: #E2EBFA;\n",
              "      box-shadow: 0px 1px 2px rgba(60, 64, 67, 0.3), 0px 1px 3px 1px rgba(60, 64, 67, 0.15);\n",
              "      fill: #174EA6;\n",
              "    }\n",
              "\n",
              "    [theme=dark] .colab-df-convert {\n",
              "      background-color: #3B4455;\n",
              "      fill: #D2E3FC;\n",
              "    }\n",
              "\n",
              "    [theme=dark] .colab-df-convert:hover {\n",
              "      background-color: #434B5C;\n",
              "      box-shadow: 0px 1px 3px 1px rgba(0, 0, 0, 0.15);\n",
              "      filter: drop-shadow(0px 1px 2px rgba(0, 0, 0, 0.3));\n",
              "      fill: #FFFFFF;\n",
              "    }\n",
              "  </style>\n",
              "\n",
              "      <script>\n",
              "        const buttonEl =\n",
              "          document.querySelector('#df-a97975cb-1515-43dc-a27c-6146d37ffc40 button.colab-df-convert');\n",
              "        buttonEl.style.display =\n",
              "          google.colab.kernel.accessAllowed ? 'block' : 'none';\n",
              "\n",
              "        async function convertToInteractive(key) {\n",
              "          const element = document.querySelector('#df-a97975cb-1515-43dc-a27c-6146d37ffc40');\n",
              "          const dataTable =\n",
              "            await google.colab.kernel.invokeFunction('convertToInteractive',\n",
              "                                                     [key], {});\n",
              "          if (!dataTable) return;\n",
              "\n",
              "          const docLinkHtml = 'Like what you see? Visit the ' +\n",
              "            '<a target=\"_blank\" href=https://colab.research.google.com/notebooks/data_table.ipynb>data table notebook</a>'\n",
              "            + ' to learn more about interactive tables.';\n",
              "          element.innerHTML = '';\n",
              "          dataTable['output_type'] = 'display_data';\n",
              "          await google.colab.output.renderOutput(dataTable, element);\n",
              "          const docLink = document.createElement('div');\n",
              "          docLink.innerHTML = docLinkHtml;\n",
              "          element.appendChild(docLink);\n",
              "        }\n",
              "      </script>\n",
              "    </div>\n",
              "  </div>\n",
              "  "
            ],
            "text/plain": [
              "         ID                            Listing Url       Scrape ID  \\\n",
              "0  15141125  https://www.airbnb.com/rooms/15141125  20170407214119   \n",
              "1   9470166   https://www.airbnb.com/rooms/9470166  20170407214119   \n",
              "2  17444981  https://www.airbnb.com/rooms/17444981  20170407214119   \n",
              "3   3284565   https://www.airbnb.com/rooms/3284565  20170407214119   \n",
              "4    499911    https://www.airbnb.com/rooms/499911  20170407214119   \n",
              "\n",
              "  Last Scraped                                 Name  \\\n",
              "0   2017-04-08           Panoramic charming studio!   \n",
              "1   2017-04-08  Comfortable penthouse in the center   \n",
              "2   2017-04-08         Cosy Apartment SOL/LA LATINA   \n",
              "3   2017-04-08        Alquiler Estudio Nuevo Madrid   \n",
              "4   2017-04-08  2 bedroom apartment downtown Madrid   \n",
              "\n",
              "                                             Summary  \\\n",
              "0  Charming bright and cosy studio in \"El Rastro\"...   \n",
              "1  In the center, recently remodeled, comfortable...   \n",
              "2  Nice apartment near Sol and La Latina. Perfect...   \n",
              "3  Alquilo estudio en el centro de Madrid , total...   \n",
              "4                                                NaN   \n",
              "\n",
              "                                               Space  \\\n",
              "0  It's a bright and cosy studio located in the h...   \n",
              "1  Quiet and comfortable space where you can rela...   \n",
              "2  Is a really cosy apartment with the best locat...   \n",
              "3                                                NaN   \n",
              "4  Bright and airy apartment in Central Madrid re...   \n",
              "\n",
              "                                         Description Experiences Offered  \\\n",
              "0  Charming bright and cosy studio in \"El Rastro\"...                none   \n",
              "1  In the center, recently remodeled, comfortable...                none   \n",
              "2  Nice apartment near Sol and La Latina. Perfect...                none   \n",
              "3  Alquilo estudio en el centro de Madrid , total...                none   \n",
              "4  Bright and airy apartment in Central Madrid re...                none   \n",
              "\n",
              "                               Neighborhood Overview  ...  \\\n",
              "0  The studio is located in the remarkable neighb...  ...   \n",
              "1  It belongs to the district center of Madrid wh...  ...   \n",
              "2  La Latina is well known by El Rastro, the most...  ...   \n",
              "3                                                NaN  ...   \n",
              "4                                                NaN  ...   \n",
              "\n",
              "  Review Scores Communication Review Scores Location Review Scores Value  \\\n",
              "0                        10.0                   10.0                10.0   \n",
              "1                         9.0                    9.0                 8.0   \n",
              "2                        10.0                   10.0                10.0   \n",
              "3                        10.0                    9.0                 9.0   \n",
              "4                        10.0                   10.0                10.0   \n",
              "\n",
              "  License Jurisdiction Names Cancellation Policy  \\\n",
              "0     NaN                NaN            moderate   \n",
              "1     NaN                NaN              strict   \n",
              "2     NaN                NaN            moderate   \n",
              "3     NaN                NaN              strict   \n",
              "4     NaN                NaN              strict   \n",
              "\n",
              "  Calculated host listings count Reviews per Month  \\\n",
              "0                              2              5.11   \n",
              "1                             13              5.88   \n",
              "2                              1              6.18   \n",
              "3                              3              0.19   \n",
              "4                              1              1.39   \n",
              "\n",
              "                              Geolocation  \\\n",
              "0   40.40745268477803,-3.7079954754432634   \n",
              "1    40.40831556101927,-3.705006385704201   \n",
              "2  40.413722014584295,-3.7068231186536718   \n",
              "3  40.411263372718054,-3.6973054373712886   \n",
              "4    40.41255625665078,-3.701155364799422   \n",
              "\n",
              "                                            Features  \n",
              "0  Host Is Superhost,Host Has Profile Pic,Host Id...  \n",
              "1  Host Has Profile Pic,Host Identity Verified,Re...  \n",
              "2  Host Has Profile Pic,Host Identity Verified,Re...  \n",
              "3  Host Has Profile Pic,Host Identity Verified,Is...  \n",
              "4  Host Is Superhost,Host Has Profile Pic,Host Id...  \n",
              "\n",
              "[5 rows x 89 columns]"
            ]
          },
          "execution_count": 4,
          "metadata": {},
          "output_type": "execute_result"
        }
      ],
      "source": [
        "# Leemos el dataset con pandas y mostramos los 5 primeros registros\n",
        "data = pd.read_csv('airbnb-listings.csv', sep = ';')\n",
        "data.head()"
      ]
    },
    {
      "cell_type": "code",
      "execution_count": null,
      "metadata": {
        "colab": {
          "base_uri": "https://localhost:8080/"
        },
        "id": "5PTgFC8JAClH",
        "outputId": "05fa1ca1-32f6-4fed-cec2-2a36908e2e72"
      },
      "outputs": [
        {
          "data": {
            "text/plain": [
              "(14001, 89)"
            ]
          },
          "execution_count": 5,
          "metadata": {},
          "output_type": "execute_result"
        }
      ],
      "source": [
        "# vamos a ver de cuantos registros disponemos y de cuantas variables\n",
        "data.shape"
      ]
    },
    {
      "cell_type": "code",
      "execution_count": null,
      "metadata": {
        "colab": {
          "base_uri": "https://localhost:8080/"
        },
        "id": "vYtz5HYjjdEK",
        "outputId": "4affe05d-0992-4bc7-9351-b6d0ee055337"
      },
      "outputs": [
        {
          "data": {
            "text/plain": [
              "Index(['ID', 'Listing Url', 'Scrape ID', 'Last Scraped', 'Name', 'Summary',\n",
              "       'Space', 'Description', 'Experiences Offered', 'Neighborhood Overview',\n",
              "       'Notes', 'Transit', 'Access', 'Interaction', 'House Rules',\n",
              "       'Thumbnail Url', 'Medium Url', 'Picture Url', 'XL Picture Url',\n",
              "       'Host ID', 'Host URL', 'Host Name', 'Host Since', 'Host Location',\n",
              "       'Host About', 'Host Response Time', 'Host Response Rate',\n",
              "       'Host Acceptance Rate', 'Host Thumbnail Url', 'Host Picture Url',\n",
              "       'Host Neighbourhood', 'Host Listings Count',\n",
              "       'Host Total Listings Count', 'Host Verifications', 'Street',\n",
              "       'Neighbourhood', 'Neighbourhood Cleansed',\n",
              "       'Neighbourhood Group Cleansed', 'City', 'State', 'Zipcode', 'Market',\n",
              "       'Smart Location', 'Country Code', 'Country', 'Latitude', 'Longitude',\n",
              "       'Property Type', 'Room Type', 'Accommodates', 'Bathrooms', 'Bedrooms',\n",
              "       'Beds', 'Bed Type', 'Amenities', 'Square Feet', 'Price', 'Weekly Price',\n",
              "       'Monthly Price', 'Security Deposit', 'Cleaning Fee', 'Guests Included',\n",
              "       'Extra People', 'Minimum Nights', 'Maximum Nights', 'Calendar Updated',\n",
              "       'Has Availability', 'Availability 30', 'Availability 60',\n",
              "       'Availability 90', 'Availability 365', 'Calendar last Scraped',\n",
              "       'Number of Reviews', 'First Review', 'Last Review',\n",
              "       'Review Scores Rating', 'Review Scores Accuracy',\n",
              "       'Review Scores Cleanliness', 'Review Scores Checkin',\n",
              "       'Review Scores Communication', 'Review Scores Location',\n",
              "       'Review Scores Value', 'License', 'Jurisdiction Names',\n",
              "       'Cancellation Policy', 'Calculated host listings count',\n",
              "       'Reviews per Month', 'Geolocation', 'Features'],\n",
              "      dtype='object')"
            ]
          },
          "execution_count": 6,
          "metadata": {},
          "output_type": "execute_result"
        }
      ],
      "source": [
        "# ¿De qué variables disponemos?\n",
        "data.columns"
      ]
    },
    {
      "cell_type": "markdown",
      "metadata": {
        "id": "lypWc6ogxZ3U"
      },
      "source": [
        "Voy a filtrar por Madrid el dataset porque he observado errores en 'City'\n"
      ]
    },
    {
      "cell_type": "code",
      "execution_count": null,
      "metadata": {
        "colab": {
          "base_uri": "https://localhost:8080/"
        },
        "id": "Qv5uCBW9yYgX",
        "outputId": "9f49d723-ed75-4419-f804-5d5d009d5b43"
      },
      "outputs": [
        {
          "name": "stdout",
          "output_type": "stream",
          "text": [
            "Hay 794 filas que no son de Madrid\n"
          ]
        }
      ],
      "source": [
        "#observo si hay filas que no pertenecen a Madrid\n",
        "print(f'Hay', (data['City'] != 'Madrid').sum(), 'filas que no son de Madrid')"
      ]
    },
    {
      "cell_type": "code",
      "execution_count": null,
      "metadata": {
        "colab": {
          "base_uri": "https://localhost:8080/"
        },
        "id": "VyWD_CNzzdl3",
        "outputId": "03e6bbb2-3cc6-4599-dea5-c64d1ebbecd8"
      },
      "outputs": [
        {
          "data": {
            "text/plain": [
              "0"
            ]
          },
          "execution_count": 8,
          "metadata": {},
          "output_type": "execute_result"
        }
      ],
      "source": [
        "#elimino esas filas\n",
        "data_mad = data.loc[data['City']=='Madrid']\n",
        "#compruebo que las he eliminado\n",
        "(data_mad['City'] != 'Madrid').sum()"
      ]
    },
    {
      "cell_type": "code",
      "execution_count": null,
      "metadata": {
        "colab": {
          "base_uri": "https://localhost:8080/"
        },
        "id": "6w_UvGgCyYuG",
        "outputId": "858c538f-91d8-4d91-8c60-d04ae901bacc"
      },
      "outputs": [
        {
          "data": {
            "text/plain": [
              "(13207, 89)"
            ]
          },
          "execution_count": 9,
          "metadata": {},
          "output_type": "execute_result"
        }
      ],
      "source": [
        "# vamos a ver las medidas del data_mad\n",
        "data_mad.shape"
      ]
    },
    {
      "cell_type": "code",
      "execution_count": null,
      "metadata": {
        "id": "IzftxOxS6u5B"
      },
      "outputs": [],
      "source": [
        "#reseteo los indices para que no haya problemas después al descargar las imagenes\n",
        "data_mad = data_mad.reset_index()"
      ]
    },
    {
      "cell_type": "markdown",
      "metadata": {
        "id": "tv1BNRNB9V1e"
      },
      "source": [
        "Cargamos las imágenes del entrenamiento en un array para tenerlas disponibles luego"
      ]
    },
    {
      "cell_type": "code",
      "execution_count": null,
      "metadata": {
        "colab": {
          "base_uri": "https://localhost:8080/"
        },
        "id": "xgYtsBgIZQVl",
        "outputId": "520c1446-a674-4421-9eb8-6315c4907ea2"
      },
      "outputs": [
        {
          "name": "stdout",
          "output_type": "stream",
          "text": [
            "Mounted at /content/drive\n"
          ]
        }
      ],
      "source": [
        "# montamos GDrive para almacenar las imagenes que descarguemos\n",
        "from google.colab import drive\n",
        "drive.mount('/content/drive')"
      ]
    },
    {
      "cell_type": "code",
      "execution_count": null,
      "metadata": {
        "colab": {
          "background_save": true,
          "base_uri": "https://localhost:8080/"
        },
        "id": "Rf2pobWEHU93",
        "outputId": "79bb62b6-ed74-440d-d7c9-df9179b22633"
      },
      "outputs": [
        {
          "name": "stdout",
          "output_type": "stream",
          "text": [
            "Imagen 0 descargada\n",
            "1\n",
            "Imagen 1 descargada\n",
            "2\n",
            "Imagen 2 descargada\n",
            "3\n",
            "Imagen 4 descargada\n",
            "4\n",
            "Imagen 7 descargada\n",
            "5\n",
            "Imagen 11 descargada\n",
            "6\n",
            "Imagen 13 descargada\n",
            "7\n",
            "Imagen 15 descargada\n",
            "8\n",
            "Imagen 16 descargada\n",
            "9\n",
            "Imagen 17 descargada\n",
            "10\n",
            "Imagen 21 descargada\n",
            "11\n",
            "Imagen 23 descargada\n",
            "12\n",
            "Imagen 24 descargada\n",
            "13\n",
            "Imagen 25 descargada\n",
            "14\n",
            "Imagen 26 descargada\n",
            "15\n",
            "Imagen 27 descargada\n",
            "16\n",
            "Imagen 29 descargada\n",
            "17\n",
            "Imagen 30 descargada\n",
            "18\n",
            "Imagen 31 descargada\n",
            "19\n",
            "Imagen 32 descargada\n",
            "20\n",
            "Imagen 34 descargada\n",
            "21\n",
            "Imagen 35 descargada\n",
            "22\n",
            "Imagen 36 descargada\n",
            "23\n",
            "Imagen 37 descargada\n",
            "24\n",
            "Imagen 38 descargada\n",
            "25\n",
            "Imagen 39 descargada\n",
            "26\n",
            "Imagen 40 descargada\n",
            "27\n",
            "Imagen 41 descargada\n",
            "28\n",
            "Imagen 43 descargada\n",
            "29\n",
            "Imagen 45 descargada\n",
            "30\n",
            "Imagen 46 descargada\n",
            "31\n",
            "Imagen 47 descargada\n",
            "32\n",
            "Imagen 48 descargada\n",
            "33\n",
            "Imagen 52 descargada\n",
            "34\n",
            "Imagen 54 descargada\n",
            "35\n",
            "Imagen 55 descargada\n",
            "36\n",
            "Imagen 56 descargada\n",
            "37\n",
            "Imagen 57 descargada\n",
            "38\n",
            "Imagen 58 descargada\n",
            "39\n",
            "Imagen 59 descargada\n",
            "40\n",
            "Imagen 60 descargada\n",
            "41\n",
            "Imagen 61 descargada\n",
            "42\n",
            "Imagen 62 descargada\n",
            "43\n",
            "Imagen 64 descargada\n",
            "44\n"
          ]
        },
        {
          "ename": "KeyboardInterrupt",
          "evalue": "ignored",
          "output_type": "error",
          "traceback": [
            "\u001b[0;31m---------------------------------------------------------------------------\u001b[0m",
            "\u001b[0;31mKeyboardInterrupt\u001b[0m                         Traceback (most recent call last)",
            "\u001b[0;32m<ipython-input-12-f82f82c55578>\u001b[0m in \u001b[0;36m<module>\u001b[0;34m\u001b[0m\n\u001b[1;32m     10\u001b[0m         \u001b[0;32mbreak\u001b[0m\u001b[0;34m\u001b[0m\u001b[0;34m\u001b[0m\u001b[0m\n\u001b[1;32m     11\u001b[0m     \u001b[0;32mtry\u001b[0m\u001b[0;34m:\u001b[0m\u001b[0;34m\u001b[0m\u001b[0;34m\u001b[0m\u001b[0m\n\u001b[0;32m---> 12\u001b[0;31m         \u001b[0mimg\u001b[0m \u001b[0;34m=\u001b[0m \u001b[0mio\u001b[0m\u001b[0;34m.\u001b[0m\u001b[0mimread\u001b[0m\u001b[0;34m(\u001b[0m\u001b[0murl\u001b[0m\u001b[0;34m)\u001b[0m\u001b[0;34m\u001b[0m\u001b[0;34m\u001b[0m\u001b[0m\n\u001b[0m\u001b[1;32m     13\u001b[0m         \u001b[0mimages_aux\u001b[0m \u001b[0;34m=\u001b[0m \u001b[0mcv2\u001b[0m\u001b[0;34m.\u001b[0m\u001b[0mresize\u001b[0m\u001b[0;34m(\u001b[0m\u001b[0mimg\u001b[0m\u001b[0;34m,\u001b[0m \u001b[0;34m(\u001b[0m\u001b[0;36m224\u001b[0m\u001b[0;34m,\u001b[0m \u001b[0;36m224\u001b[0m\u001b[0;34m)\u001b[0m\u001b[0;34m)\u001b[0m\u001b[0;34m\u001b[0m\u001b[0;34m\u001b[0m\u001b[0m\n\u001b[1;32m     14\u001b[0m         \u001b[0;32mif\u001b[0m \u001b[0mimages_aux\u001b[0m\u001b[0;34m.\u001b[0m\u001b[0mshape\u001b[0m \u001b[0;34m==\u001b[0m \u001b[0;34m(\u001b[0m\u001b[0;36m224\u001b[0m\u001b[0;34m,\u001b[0m \u001b[0;36m224\u001b[0m\u001b[0;34m,\u001b[0m \u001b[0;36m3\u001b[0m\u001b[0;34m)\u001b[0m\u001b[0;34m:\u001b[0m\u001b[0;34m\u001b[0m\u001b[0;34m\u001b[0m\u001b[0m\n",
            "\u001b[0;32m/usr/local/lib/python3.8/dist-packages/imageio/core/functions.py\u001b[0m in \u001b[0;36mimread\u001b[0;34m(uri, format, **kwargs)\u001b[0m\n\u001b[1;32m    263\u001b[0m \u001b[0;34m\u001b[0m\u001b[0m\n\u001b[1;32m    264\u001b[0m     \u001b[0;31m# Get reader and read first\u001b[0m\u001b[0;34m\u001b[0m\u001b[0;34m\u001b[0m\u001b[0;34m\u001b[0m\u001b[0m\n\u001b[0;32m--> 265\u001b[0;31m     \u001b[0mreader\u001b[0m \u001b[0;34m=\u001b[0m \u001b[0mread\u001b[0m\u001b[0;34m(\u001b[0m\u001b[0muri\u001b[0m\u001b[0;34m,\u001b[0m \u001b[0mformat\u001b[0m\u001b[0;34m,\u001b[0m \u001b[0;34m\"i\"\u001b[0m\u001b[0;34m,\u001b[0m \u001b[0;34m**\u001b[0m\u001b[0mkwargs\u001b[0m\u001b[0;34m)\u001b[0m\u001b[0;34m\u001b[0m\u001b[0;34m\u001b[0m\u001b[0m\n\u001b[0m\u001b[1;32m    266\u001b[0m     \u001b[0;32mwith\u001b[0m \u001b[0mreader\u001b[0m\u001b[0;34m:\u001b[0m\u001b[0;34m\u001b[0m\u001b[0;34m\u001b[0m\u001b[0m\n\u001b[1;32m    267\u001b[0m         \u001b[0;32mreturn\u001b[0m \u001b[0mreader\u001b[0m\u001b[0;34m.\u001b[0m\u001b[0mget_data\u001b[0m\u001b[0;34m(\u001b[0m\u001b[0;36m0\u001b[0m\u001b[0;34m)\u001b[0m\u001b[0;34m\u001b[0m\u001b[0;34m\u001b[0m\u001b[0m\n",
            "\u001b[0;32m/usr/local/lib/python3.8/dist-packages/imageio/core/functions.py\u001b[0m in \u001b[0;36mget_reader\u001b[0;34m(uri, format, mode, **kwargs)\u001b[0m\n\u001b[1;32m    176\u001b[0m         \u001b[0mformat\u001b[0m \u001b[0;34m=\u001b[0m \u001b[0mformats\u001b[0m\u001b[0;34m[\u001b[0m\u001b[0mformat\u001b[0m\u001b[0;34m]\u001b[0m\u001b[0;34m\u001b[0m\u001b[0;34m\u001b[0m\u001b[0m\n\u001b[1;32m    177\u001b[0m     \u001b[0;32melse\u001b[0m\u001b[0;34m:\u001b[0m\u001b[0;34m\u001b[0m\u001b[0;34m\u001b[0m\u001b[0m\n\u001b[0;32m--> 178\u001b[0;31m         \u001b[0mformat\u001b[0m \u001b[0;34m=\u001b[0m \u001b[0mformats\u001b[0m\u001b[0;34m.\u001b[0m\u001b[0msearch_read_format\u001b[0m\u001b[0;34m(\u001b[0m\u001b[0mrequest\u001b[0m\u001b[0;34m)\u001b[0m\u001b[0;34m\u001b[0m\u001b[0;34m\u001b[0m\u001b[0m\n\u001b[0m\u001b[1;32m    179\u001b[0m     \u001b[0;32mif\u001b[0m \u001b[0mformat\u001b[0m \u001b[0;32mis\u001b[0m \u001b[0;32mNone\u001b[0m\u001b[0;34m:\u001b[0m\u001b[0;34m\u001b[0m\u001b[0;34m\u001b[0m\u001b[0m\n\u001b[1;32m    180\u001b[0m         \u001b[0mmodename\u001b[0m \u001b[0;34m=\u001b[0m \u001b[0mMODENAMES\u001b[0m\u001b[0;34m.\u001b[0m\u001b[0mget\u001b[0m\u001b[0;34m(\u001b[0m\u001b[0mmode\u001b[0m\u001b[0;34m,\u001b[0m \u001b[0mmode\u001b[0m\u001b[0;34m)\u001b[0m\u001b[0;34m\u001b[0m\u001b[0;34m\u001b[0m\u001b[0m\n",
            "\u001b[0;32m/usr/local/lib/python3.8/dist-packages/imageio/core/format.py\u001b[0m in \u001b[0;36msearch_read_format\u001b[0;34m(self, request)\u001b[0m\n\u001b[1;32m    687\u001b[0m         \u001b[0;31m# Select the first that can\u001b[0m\u001b[0;34m\u001b[0m\u001b[0;34m\u001b[0m\u001b[0;34m\u001b[0m\u001b[0m\n\u001b[1;32m    688\u001b[0m         \u001b[0;32mfor\u001b[0m \u001b[0mformat\u001b[0m \u001b[0;32min\u001b[0m \u001b[0mselected_formats\u001b[0m\u001b[0;34m:\u001b[0m\u001b[0;34m\u001b[0m\u001b[0;34m\u001b[0m\u001b[0m\n\u001b[0;32m--> 689\u001b[0;31m             \u001b[0;32mif\u001b[0m \u001b[0mformat\u001b[0m\u001b[0;34m.\u001b[0m\u001b[0mcan_read\u001b[0m\u001b[0;34m(\u001b[0m\u001b[0mrequest\u001b[0m\u001b[0;34m)\u001b[0m\u001b[0;34m:\u001b[0m\u001b[0;34m\u001b[0m\u001b[0;34m\u001b[0m\u001b[0m\n\u001b[0m\u001b[1;32m    690\u001b[0m                 \u001b[0;32mreturn\u001b[0m \u001b[0mformat\u001b[0m\u001b[0;34m\u001b[0m\u001b[0;34m\u001b[0m\u001b[0m\n\u001b[1;32m    691\u001b[0m \u001b[0;34m\u001b[0m\u001b[0m\n",
            "\u001b[0;32m/usr/local/lib/python3.8/dist-packages/imageio/core/format.py\u001b[0m in \u001b[0;36mcan_read\u001b[0;34m(self, request)\u001b[0m\n\u001b[1;32m    190\u001b[0m         \u001b[0mGet\u001b[0m \u001b[0mwhether\u001b[0m \u001b[0mthis\u001b[0m \u001b[0mformat\u001b[0m \u001b[0mcan\u001b[0m \u001b[0mread\u001b[0m \u001b[0mdata\u001b[0m \u001b[0;32mfrom\u001b[0m \u001b[0mthe\u001b[0m \u001b[0mspecified\u001b[0m \u001b[0muri\u001b[0m\u001b[0;34m.\u001b[0m\u001b[0;34m\u001b[0m\u001b[0;34m\u001b[0m\u001b[0m\n\u001b[1;32m    191\u001b[0m         \"\"\"\n\u001b[0;32m--> 192\u001b[0;31m         \u001b[0;32mreturn\u001b[0m \u001b[0mself\u001b[0m\u001b[0;34m.\u001b[0m\u001b[0m_can_read\u001b[0m\u001b[0;34m(\u001b[0m\u001b[0mrequest\u001b[0m\u001b[0;34m)\u001b[0m\u001b[0;34m\u001b[0m\u001b[0;34m\u001b[0m\u001b[0m\n\u001b[0m\u001b[1;32m    193\u001b[0m \u001b[0;34m\u001b[0m\u001b[0m\n\u001b[1;32m    194\u001b[0m     \u001b[0;32mdef\u001b[0m \u001b[0mcan_write\u001b[0m\u001b[0;34m(\u001b[0m\u001b[0mself\u001b[0m\u001b[0;34m,\u001b[0m \u001b[0mrequest\u001b[0m\u001b[0;34m)\u001b[0m\u001b[0;34m:\u001b[0m\u001b[0;34m\u001b[0m\u001b[0;34m\u001b[0m\u001b[0m\n",
            "\u001b[0;32m/usr/local/lib/python3.8/dist-packages/imageio/plugins/pillow.py\u001b[0m in \u001b[0;36m_can_read\u001b[0;34m(self, request)\u001b[0m\n\u001b[1;32m    105\u001b[0m                 \u001b[0mfactory\u001b[0m\u001b[0;34m,\u001b[0m \u001b[0maccept\u001b[0m \u001b[0;34m=\u001b[0m \u001b[0mImage\u001b[0m\u001b[0;34m.\u001b[0m\u001b[0mOPEN\u001b[0m\u001b[0;34m[\u001b[0m\u001b[0mself\u001b[0m\u001b[0;34m.\u001b[0m\u001b[0mplugin_id\u001b[0m\u001b[0;34m]\u001b[0m\u001b[0;34m\u001b[0m\u001b[0;34m\u001b[0m\u001b[0m\n\u001b[1;32m    106\u001b[0m                 \u001b[0;32mif\u001b[0m \u001b[0maccept\u001b[0m\u001b[0;34m:\u001b[0m\u001b[0;34m\u001b[0m\u001b[0;34m\u001b[0m\u001b[0m\n\u001b[0;32m--> 107\u001b[0;31m                     \u001b[0;32mif\u001b[0m \u001b[0mrequest\u001b[0m\u001b[0;34m.\u001b[0m\u001b[0mfirstbytes\u001b[0m \u001b[0;32mand\u001b[0m \u001b[0maccept\u001b[0m\u001b[0;34m(\u001b[0m\u001b[0mrequest\u001b[0m\u001b[0;34m.\u001b[0m\u001b[0mfirstbytes\u001b[0m\u001b[0;34m)\u001b[0m\u001b[0;34m:\u001b[0m\u001b[0;34m\u001b[0m\u001b[0;34m\u001b[0m\u001b[0m\n\u001b[0m\u001b[1;32m    108\u001b[0m                         \u001b[0;32mreturn\u001b[0m \u001b[0;32mTrue\u001b[0m\u001b[0;34m\u001b[0m\u001b[0;34m\u001b[0m\u001b[0m\n\u001b[1;32m    109\u001b[0m \u001b[0;34m\u001b[0m\u001b[0m\n",
            "\u001b[0;32m/usr/local/lib/python3.8/dist-packages/imageio/core/request.py\u001b[0m in \u001b[0;36mfirstbytes\u001b[0;34m(self)\u001b[0m\n\u001b[1;32m    440\u001b[0m         \"\"\"\n\u001b[1;32m    441\u001b[0m         \u001b[0;32mif\u001b[0m \u001b[0mself\u001b[0m\u001b[0;34m.\u001b[0m\u001b[0m_firstbytes\u001b[0m \u001b[0;32mis\u001b[0m \u001b[0;32mNone\u001b[0m\u001b[0;34m:\u001b[0m\u001b[0;34m\u001b[0m\u001b[0;34m\u001b[0m\u001b[0m\n\u001b[0;32m--> 442\u001b[0;31m             \u001b[0mself\u001b[0m\u001b[0;34m.\u001b[0m\u001b[0m_read_first_bytes\u001b[0m\u001b[0;34m(\u001b[0m\u001b[0;34m)\u001b[0m\u001b[0;34m\u001b[0m\u001b[0;34m\u001b[0m\u001b[0m\n\u001b[0m\u001b[1;32m    443\u001b[0m         \u001b[0;32mreturn\u001b[0m \u001b[0mself\u001b[0m\u001b[0;34m.\u001b[0m\u001b[0m_firstbytes\u001b[0m\u001b[0;34m\u001b[0m\u001b[0;34m\u001b[0m\u001b[0m\n\u001b[1;32m    444\u001b[0m \u001b[0;34m\u001b[0m\u001b[0m\n",
            "\u001b[0;32m/usr/local/lib/python3.8/dist-packages/imageio/core/request.py\u001b[0m in \u001b[0;36m_read_first_bytes\u001b[0;34m(self, N)\u001b[0m\n\u001b[1;32m    449\u001b[0m             \u001b[0;31m# Prepare\u001b[0m\u001b[0;34m\u001b[0m\u001b[0;34m\u001b[0m\u001b[0;34m\u001b[0m\u001b[0m\n\u001b[1;32m    450\u001b[0m             \u001b[0;32mtry\u001b[0m\u001b[0;34m:\u001b[0m\u001b[0;34m\u001b[0m\u001b[0;34m\u001b[0m\u001b[0m\n\u001b[0;32m--> 451\u001b[0;31m                 \u001b[0mf\u001b[0m \u001b[0;34m=\u001b[0m \u001b[0mself\u001b[0m\u001b[0;34m.\u001b[0m\u001b[0mget_file\u001b[0m\u001b[0;34m(\u001b[0m\u001b[0;34m)\u001b[0m\u001b[0;34m\u001b[0m\u001b[0;34m\u001b[0m\u001b[0m\n\u001b[0m\u001b[1;32m    452\u001b[0m             \u001b[0;32mexcept\u001b[0m \u001b[0mIOError\u001b[0m\u001b[0;34m:\u001b[0m\u001b[0;34m\u001b[0m\u001b[0;34m\u001b[0m\u001b[0m\n\u001b[1;32m    453\u001b[0m                 \u001b[0;32mif\u001b[0m \u001b[0mos\u001b[0m\u001b[0;34m.\u001b[0m\u001b[0mpath\u001b[0m\u001b[0;34m.\u001b[0m\u001b[0misdir\u001b[0m\u001b[0;34m(\u001b[0m\u001b[0mself\u001b[0m\u001b[0;34m.\u001b[0m\u001b[0mfilename\u001b[0m\u001b[0;34m)\u001b[0m\u001b[0;34m:\u001b[0m  \u001b[0;31m# A directory, e.g. for DICOM\u001b[0m\u001b[0;34m\u001b[0m\u001b[0;34m\u001b[0m\u001b[0m\n",
            "\u001b[0;32m/usr/local/lib/python3.8/dist-packages/imageio/core/request.py\u001b[0m in \u001b[0;36mget_file\u001b[0;34m(self)\u001b[0m\n\u001b[1;32m    351\u001b[0m             \u001b[0;32mif\u001b[0m \u001b[0mtimeout\u001b[0m \u001b[0;32mis\u001b[0m \u001b[0;32mNone\u001b[0m \u001b[0;32mor\u001b[0m \u001b[0;32mnot\u001b[0m \u001b[0mtimeout\u001b[0m\u001b[0;34m.\u001b[0m\u001b[0misdigit\u001b[0m\u001b[0;34m(\u001b[0m\u001b[0;34m)\u001b[0m\u001b[0;34m:\u001b[0m\u001b[0;34m\u001b[0m\u001b[0;34m\u001b[0m\u001b[0m\n\u001b[1;32m    352\u001b[0m                 \u001b[0mtimeout\u001b[0m \u001b[0;34m=\u001b[0m \u001b[0;36m5\u001b[0m\u001b[0;34m\u001b[0m\u001b[0;34m\u001b[0m\u001b[0m\n\u001b[0;32m--> 353\u001b[0;31m             \u001b[0mself\u001b[0m\u001b[0;34m.\u001b[0m\u001b[0m_file\u001b[0m \u001b[0;34m=\u001b[0m \u001b[0murlopen\u001b[0m\u001b[0;34m(\u001b[0m\u001b[0mself\u001b[0m\u001b[0;34m.\u001b[0m\u001b[0mfilename\u001b[0m\u001b[0;34m,\u001b[0m \u001b[0mtimeout\u001b[0m\u001b[0;34m=\u001b[0m\u001b[0mfloat\u001b[0m\u001b[0;34m(\u001b[0m\u001b[0mtimeout\u001b[0m\u001b[0;34m)\u001b[0m\u001b[0;34m)\u001b[0m\u001b[0;34m\u001b[0m\u001b[0;34m\u001b[0m\u001b[0m\n\u001b[0m\u001b[1;32m    354\u001b[0m             \u001b[0mself\u001b[0m\u001b[0;34m.\u001b[0m\u001b[0m_file\u001b[0m \u001b[0;34m=\u001b[0m \u001b[0mSeekableFileObject\u001b[0m\u001b[0;34m(\u001b[0m\u001b[0mself\u001b[0m\u001b[0;34m.\u001b[0m\u001b[0m_file\u001b[0m\u001b[0;34m)\u001b[0m\u001b[0;34m\u001b[0m\u001b[0;34m\u001b[0m\u001b[0m\n\u001b[1;32m    355\u001b[0m \u001b[0;34m\u001b[0m\u001b[0m\n",
            "\u001b[0;32m/usr/local/lib/python3.8/dist-packages/imageio/core/util.py\u001b[0m in \u001b[0;36murlopen\u001b[0;34m(*args, **kwargs)\u001b[0m\n\u001b[1;32m     32\u001b[0m     \u001b[0;32mexcept\u001b[0m \u001b[0mImportError\u001b[0m\u001b[0;34m:\u001b[0m\u001b[0;34m\u001b[0m\u001b[0;34m\u001b[0m\u001b[0m\n\u001b[1;32m     33\u001b[0m         \u001b[0;32mraise\u001b[0m \u001b[0mRuntimeError\u001b[0m\u001b[0;34m(\u001b[0m\u001b[0;34m\"Could not import urlopen.\"\u001b[0m\u001b[0;34m)\u001b[0m\u001b[0;34m\u001b[0m\u001b[0;34m\u001b[0m\u001b[0m\n\u001b[0;32m---> 34\u001b[0;31m     \u001b[0;32mreturn\u001b[0m \u001b[0murlopen\u001b[0m\u001b[0;34m(\u001b[0m\u001b[0;34m*\u001b[0m\u001b[0margs\u001b[0m\u001b[0;34m,\u001b[0m \u001b[0;34m**\u001b[0m\u001b[0mkwargs\u001b[0m\u001b[0;34m)\u001b[0m\u001b[0;34m\u001b[0m\u001b[0;34m\u001b[0m\u001b[0m\n\u001b[0m\u001b[1;32m     35\u001b[0m \u001b[0;34m\u001b[0m\u001b[0m\n\u001b[1;32m     36\u001b[0m \u001b[0;34m\u001b[0m\u001b[0m\n",
            "\u001b[0;32m/usr/lib/python3.8/urllib/request.py\u001b[0m in \u001b[0;36murlopen\u001b[0;34m(url, data, timeout, cafile, capath, cadefault, context)\u001b[0m\n\u001b[1;32m    220\u001b[0m     \u001b[0;32melse\u001b[0m\u001b[0;34m:\u001b[0m\u001b[0;34m\u001b[0m\u001b[0;34m\u001b[0m\u001b[0m\n\u001b[1;32m    221\u001b[0m         \u001b[0mopener\u001b[0m \u001b[0;34m=\u001b[0m \u001b[0m_opener\u001b[0m\u001b[0;34m\u001b[0m\u001b[0;34m\u001b[0m\u001b[0m\n\u001b[0;32m--> 222\u001b[0;31m     \u001b[0;32mreturn\u001b[0m \u001b[0mopener\u001b[0m\u001b[0;34m.\u001b[0m\u001b[0mopen\u001b[0m\u001b[0;34m(\u001b[0m\u001b[0murl\u001b[0m\u001b[0;34m,\u001b[0m \u001b[0mdata\u001b[0m\u001b[0;34m,\u001b[0m \u001b[0mtimeout\u001b[0m\u001b[0;34m)\u001b[0m\u001b[0;34m\u001b[0m\u001b[0;34m\u001b[0m\u001b[0m\n\u001b[0m\u001b[1;32m    223\u001b[0m \u001b[0;34m\u001b[0m\u001b[0m\n\u001b[1;32m    224\u001b[0m \u001b[0;32mdef\u001b[0m \u001b[0minstall_opener\u001b[0m\u001b[0;34m(\u001b[0m\u001b[0mopener\u001b[0m\u001b[0;34m)\u001b[0m\u001b[0;34m:\u001b[0m\u001b[0;34m\u001b[0m\u001b[0;34m\u001b[0m\u001b[0m\n",
            "\u001b[0;32m/usr/lib/python3.8/urllib/request.py\u001b[0m in \u001b[0;36mopen\u001b[0;34m(self, fullurl, data, timeout)\u001b[0m\n\u001b[1;32m    523\u001b[0m \u001b[0;34m\u001b[0m\u001b[0m\n\u001b[1;32m    524\u001b[0m         \u001b[0msys\u001b[0m\u001b[0;34m.\u001b[0m\u001b[0maudit\u001b[0m\u001b[0;34m(\u001b[0m\u001b[0;34m'urllib.Request'\u001b[0m\u001b[0;34m,\u001b[0m \u001b[0mreq\u001b[0m\u001b[0;34m.\u001b[0m\u001b[0mfull_url\u001b[0m\u001b[0;34m,\u001b[0m \u001b[0mreq\u001b[0m\u001b[0;34m.\u001b[0m\u001b[0mdata\u001b[0m\u001b[0;34m,\u001b[0m \u001b[0mreq\u001b[0m\u001b[0;34m.\u001b[0m\u001b[0mheaders\u001b[0m\u001b[0;34m,\u001b[0m \u001b[0mreq\u001b[0m\u001b[0;34m.\u001b[0m\u001b[0mget_method\u001b[0m\u001b[0;34m(\u001b[0m\u001b[0;34m)\u001b[0m\u001b[0;34m)\u001b[0m\u001b[0;34m\u001b[0m\u001b[0;34m\u001b[0m\u001b[0m\n\u001b[0;32m--> 525\u001b[0;31m         \u001b[0mresponse\u001b[0m \u001b[0;34m=\u001b[0m \u001b[0mself\u001b[0m\u001b[0;34m.\u001b[0m\u001b[0m_open\u001b[0m\u001b[0;34m(\u001b[0m\u001b[0mreq\u001b[0m\u001b[0;34m,\u001b[0m \u001b[0mdata\u001b[0m\u001b[0;34m)\u001b[0m\u001b[0;34m\u001b[0m\u001b[0;34m\u001b[0m\u001b[0m\n\u001b[0m\u001b[1;32m    526\u001b[0m \u001b[0;34m\u001b[0m\u001b[0m\n\u001b[1;32m    527\u001b[0m         \u001b[0;31m# post-process response\u001b[0m\u001b[0;34m\u001b[0m\u001b[0;34m\u001b[0m\u001b[0;34m\u001b[0m\u001b[0m\n",
            "\u001b[0;32m/usr/lib/python3.8/urllib/request.py\u001b[0m in \u001b[0;36m_open\u001b[0;34m(self, req, data)\u001b[0m\n\u001b[1;32m    540\u001b[0m \u001b[0;34m\u001b[0m\u001b[0m\n\u001b[1;32m    541\u001b[0m         \u001b[0mprotocol\u001b[0m \u001b[0;34m=\u001b[0m \u001b[0mreq\u001b[0m\u001b[0;34m.\u001b[0m\u001b[0mtype\u001b[0m\u001b[0;34m\u001b[0m\u001b[0;34m\u001b[0m\u001b[0m\n\u001b[0;32m--> 542\u001b[0;31m         result = self._call_chain(self.handle_open, protocol, protocol +\n\u001b[0m\u001b[1;32m    543\u001b[0m                                   '_open', req)\n\u001b[1;32m    544\u001b[0m         \u001b[0;32mif\u001b[0m \u001b[0mresult\u001b[0m\u001b[0;34m:\u001b[0m\u001b[0;34m\u001b[0m\u001b[0;34m\u001b[0m\u001b[0m\n",
            "\u001b[0;32m/usr/lib/python3.8/urllib/request.py\u001b[0m in \u001b[0;36m_call_chain\u001b[0;34m(self, chain, kind, meth_name, *args)\u001b[0m\n\u001b[1;32m    500\u001b[0m         \u001b[0;32mfor\u001b[0m \u001b[0mhandler\u001b[0m \u001b[0;32min\u001b[0m \u001b[0mhandlers\u001b[0m\u001b[0;34m:\u001b[0m\u001b[0;34m\u001b[0m\u001b[0;34m\u001b[0m\u001b[0m\n\u001b[1;32m    501\u001b[0m             \u001b[0mfunc\u001b[0m \u001b[0;34m=\u001b[0m \u001b[0mgetattr\u001b[0m\u001b[0;34m(\u001b[0m\u001b[0mhandler\u001b[0m\u001b[0;34m,\u001b[0m \u001b[0mmeth_name\u001b[0m\u001b[0;34m)\u001b[0m\u001b[0;34m\u001b[0m\u001b[0;34m\u001b[0m\u001b[0m\n\u001b[0;32m--> 502\u001b[0;31m             \u001b[0mresult\u001b[0m \u001b[0;34m=\u001b[0m \u001b[0mfunc\u001b[0m\u001b[0;34m(\u001b[0m\u001b[0;34m*\u001b[0m\u001b[0margs\u001b[0m\u001b[0;34m)\u001b[0m\u001b[0;34m\u001b[0m\u001b[0;34m\u001b[0m\u001b[0m\n\u001b[0m\u001b[1;32m    503\u001b[0m             \u001b[0;32mif\u001b[0m \u001b[0mresult\u001b[0m \u001b[0;32mis\u001b[0m \u001b[0;32mnot\u001b[0m \u001b[0;32mNone\u001b[0m\u001b[0;34m:\u001b[0m\u001b[0;34m\u001b[0m\u001b[0;34m\u001b[0m\u001b[0m\n\u001b[1;32m    504\u001b[0m                 \u001b[0;32mreturn\u001b[0m \u001b[0mresult\u001b[0m\u001b[0;34m\u001b[0m\u001b[0;34m\u001b[0m\u001b[0m\n",
            "\u001b[0;32m/usr/lib/python3.8/urllib/request.py\u001b[0m in \u001b[0;36mhttps_open\u001b[0;34m(self, req)\u001b[0m\n\u001b[1;32m   1395\u001b[0m \u001b[0;34m\u001b[0m\u001b[0m\n\u001b[1;32m   1396\u001b[0m         \u001b[0;32mdef\u001b[0m \u001b[0mhttps_open\u001b[0m\u001b[0;34m(\u001b[0m\u001b[0mself\u001b[0m\u001b[0;34m,\u001b[0m \u001b[0mreq\u001b[0m\u001b[0;34m)\u001b[0m\u001b[0;34m:\u001b[0m\u001b[0;34m\u001b[0m\u001b[0;34m\u001b[0m\u001b[0m\n\u001b[0;32m-> 1397\u001b[0;31m             return self.do_open(http.client.HTTPSConnection, req,\n\u001b[0m\u001b[1;32m   1398\u001b[0m                 context=self._context, check_hostname=self._check_hostname)\n\u001b[1;32m   1399\u001b[0m \u001b[0;34m\u001b[0m\u001b[0m\n",
            "\u001b[0;32m/usr/lib/python3.8/urllib/request.py\u001b[0m in \u001b[0;36mdo_open\u001b[0;34m(self, http_class, req, **http_conn_args)\u001b[0m\n\u001b[1;32m   1352\u001b[0m         \u001b[0;32mtry\u001b[0m\u001b[0;34m:\u001b[0m\u001b[0;34m\u001b[0m\u001b[0;34m\u001b[0m\u001b[0m\n\u001b[1;32m   1353\u001b[0m             \u001b[0;32mtry\u001b[0m\u001b[0;34m:\u001b[0m\u001b[0;34m\u001b[0m\u001b[0;34m\u001b[0m\u001b[0m\n\u001b[0;32m-> 1354\u001b[0;31m                 h.request(req.get_method(), req.selector, req.data, headers,\n\u001b[0m\u001b[1;32m   1355\u001b[0m                           encode_chunked=req.has_header('Transfer-encoding'))\n\u001b[1;32m   1356\u001b[0m             \u001b[0;32mexcept\u001b[0m \u001b[0mOSError\u001b[0m \u001b[0;32mas\u001b[0m \u001b[0merr\u001b[0m\u001b[0;34m:\u001b[0m \u001b[0;31m# timeout error\u001b[0m\u001b[0;34m\u001b[0m\u001b[0;34m\u001b[0m\u001b[0m\n",
            "\u001b[0;32m/usr/lib/python3.8/http/client.py\u001b[0m in \u001b[0;36mrequest\u001b[0;34m(self, method, url, body, headers, encode_chunked)\u001b[0m\n\u001b[1;32m   1254\u001b[0m                 encode_chunked=False):\n\u001b[1;32m   1255\u001b[0m         \u001b[0;34m\"\"\"Send a complete request to the server.\"\"\"\u001b[0m\u001b[0;34m\u001b[0m\u001b[0;34m\u001b[0m\u001b[0m\n\u001b[0;32m-> 1256\u001b[0;31m         \u001b[0mself\u001b[0m\u001b[0;34m.\u001b[0m\u001b[0m_send_request\u001b[0m\u001b[0;34m(\u001b[0m\u001b[0mmethod\u001b[0m\u001b[0;34m,\u001b[0m \u001b[0murl\u001b[0m\u001b[0;34m,\u001b[0m \u001b[0mbody\u001b[0m\u001b[0;34m,\u001b[0m \u001b[0mheaders\u001b[0m\u001b[0;34m,\u001b[0m \u001b[0mencode_chunked\u001b[0m\u001b[0;34m)\u001b[0m\u001b[0;34m\u001b[0m\u001b[0;34m\u001b[0m\u001b[0m\n\u001b[0m\u001b[1;32m   1257\u001b[0m \u001b[0;34m\u001b[0m\u001b[0m\n\u001b[1;32m   1258\u001b[0m     \u001b[0;32mdef\u001b[0m \u001b[0m_send_request\u001b[0m\u001b[0;34m(\u001b[0m\u001b[0mself\u001b[0m\u001b[0;34m,\u001b[0m \u001b[0mmethod\u001b[0m\u001b[0;34m,\u001b[0m \u001b[0murl\u001b[0m\u001b[0;34m,\u001b[0m \u001b[0mbody\u001b[0m\u001b[0;34m,\u001b[0m \u001b[0mheaders\u001b[0m\u001b[0;34m,\u001b[0m \u001b[0mencode_chunked\u001b[0m\u001b[0;34m)\u001b[0m\u001b[0;34m:\u001b[0m\u001b[0;34m\u001b[0m\u001b[0;34m\u001b[0m\u001b[0m\n",
            "\u001b[0;32m/usr/lib/python3.8/http/client.py\u001b[0m in \u001b[0;36m_send_request\u001b[0;34m(self, method, url, body, headers, encode_chunked)\u001b[0m\n\u001b[1;32m   1300\u001b[0m             \u001b[0;31m# default charset of iso-8859-1.\u001b[0m\u001b[0;34m\u001b[0m\u001b[0;34m\u001b[0m\u001b[0;34m\u001b[0m\u001b[0m\n\u001b[1;32m   1301\u001b[0m             \u001b[0mbody\u001b[0m \u001b[0;34m=\u001b[0m \u001b[0m_encode\u001b[0m\u001b[0;34m(\u001b[0m\u001b[0mbody\u001b[0m\u001b[0;34m,\u001b[0m \u001b[0;34m'body'\u001b[0m\u001b[0;34m)\u001b[0m\u001b[0;34m\u001b[0m\u001b[0;34m\u001b[0m\u001b[0m\n\u001b[0;32m-> 1302\u001b[0;31m         \u001b[0mself\u001b[0m\u001b[0;34m.\u001b[0m\u001b[0mendheaders\u001b[0m\u001b[0;34m(\u001b[0m\u001b[0mbody\u001b[0m\u001b[0;34m,\u001b[0m \u001b[0mencode_chunked\u001b[0m\u001b[0;34m=\u001b[0m\u001b[0mencode_chunked\u001b[0m\u001b[0;34m)\u001b[0m\u001b[0;34m\u001b[0m\u001b[0;34m\u001b[0m\u001b[0m\n\u001b[0m\u001b[1;32m   1303\u001b[0m \u001b[0;34m\u001b[0m\u001b[0m\n\u001b[1;32m   1304\u001b[0m     \u001b[0;32mdef\u001b[0m \u001b[0mgetresponse\u001b[0m\u001b[0;34m(\u001b[0m\u001b[0mself\u001b[0m\u001b[0;34m)\u001b[0m\u001b[0;34m:\u001b[0m\u001b[0;34m\u001b[0m\u001b[0;34m\u001b[0m\u001b[0m\n",
            "\u001b[0;32m/usr/lib/python3.8/http/client.py\u001b[0m in \u001b[0;36mendheaders\u001b[0;34m(self, message_body, encode_chunked)\u001b[0m\n\u001b[1;32m   1249\u001b[0m         \u001b[0;32melse\u001b[0m\u001b[0;34m:\u001b[0m\u001b[0;34m\u001b[0m\u001b[0;34m\u001b[0m\u001b[0m\n\u001b[1;32m   1250\u001b[0m             \u001b[0;32mraise\u001b[0m \u001b[0mCannotSendHeader\u001b[0m\u001b[0;34m(\u001b[0m\u001b[0;34m)\u001b[0m\u001b[0;34m\u001b[0m\u001b[0;34m\u001b[0m\u001b[0m\n\u001b[0;32m-> 1251\u001b[0;31m         \u001b[0mself\u001b[0m\u001b[0;34m.\u001b[0m\u001b[0m_send_output\u001b[0m\u001b[0;34m(\u001b[0m\u001b[0mmessage_body\u001b[0m\u001b[0;34m,\u001b[0m \u001b[0mencode_chunked\u001b[0m\u001b[0;34m=\u001b[0m\u001b[0mencode_chunked\u001b[0m\u001b[0;34m)\u001b[0m\u001b[0;34m\u001b[0m\u001b[0;34m\u001b[0m\u001b[0m\n\u001b[0m\u001b[1;32m   1252\u001b[0m \u001b[0;34m\u001b[0m\u001b[0m\n\u001b[1;32m   1253\u001b[0m     def request(self, method, url, body=None, headers={}, *,\n",
            "\u001b[0;32m/usr/lib/python3.8/http/client.py\u001b[0m in \u001b[0;36m_send_output\u001b[0;34m(self, message_body, encode_chunked)\u001b[0m\n\u001b[1;32m   1009\u001b[0m         \u001b[0mmsg\u001b[0m \u001b[0;34m=\u001b[0m \u001b[0;34mb\"\\r\\n\"\u001b[0m\u001b[0;34m.\u001b[0m\u001b[0mjoin\u001b[0m\u001b[0;34m(\u001b[0m\u001b[0mself\u001b[0m\u001b[0;34m.\u001b[0m\u001b[0m_buffer\u001b[0m\u001b[0;34m)\u001b[0m\u001b[0;34m\u001b[0m\u001b[0;34m\u001b[0m\u001b[0m\n\u001b[1;32m   1010\u001b[0m         \u001b[0;32mdel\u001b[0m \u001b[0mself\u001b[0m\u001b[0;34m.\u001b[0m\u001b[0m_buffer\u001b[0m\u001b[0;34m[\u001b[0m\u001b[0;34m:\u001b[0m\u001b[0;34m]\u001b[0m\u001b[0;34m\u001b[0m\u001b[0;34m\u001b[0m\u001b[0m\n\u001b[0;32m-> 1011\u001b[0;31m         \u001b[0mself\u001b[0m\u001b[0;34m.\u001b[0m\u001b[0msend\u001b[0m\u001b[0;34m(\u001b[0m\u001b[0mmsg\u001b[0m\u001b[0;34m)\u001b[0m\u001b[0;34m\u001b[0m\u001b[0;34m\u001b[0m\u001b[0m\n\u001b[0m\u001b[1;32m   1012\u001b[0m \u001b[0;34m\u001b[0m\u001b[0m\n\u001b[1;32m   1013\u001b[0m         \u001b[0;32mif\u001b[0m \u001b[0mmessage_body\u001b[0m \u001b[0;32mis\u001b[0m \u001b[0;32mnot\u001b[0m \u001b[0;32mNone\u001b[0m\u001b[0;34m:\u001b[0m\u001b[0;34m\u001b[0m\u001b[0;34m\u001b[0m\u001b[0m\n",
            "\u001b[0;32m/usr/lib/python3.8/http/client.py\u001b[0m in \u001b[0;36msend\u001b[0;34m(self, data)\u001b[0m\n\u001b[1;32m    949\u001b[0m         \u001b[0;32mif\u001b[0m \u001b[0mself\u001b[0m\u001b[0;34m.\u001b[0m\u001b[0msock\u001b[0m \u001b[0;32mis\u001b[0m \u001b[0;32mNone\u001b[0m\u001b[0;34m:\u001b[0m\u001b[0;34m\u001b[0m\u001b[0;34m\u001b[0m\u001b[0m\n\u001b[1;32m    950\u001b[0m             \u001b[0;32mif\u001b[0m \u001b[0mself\u001b[0m\u001b[0;34m.\u001b[0m\u001b[0mauto_open\u001b[0m\u001b[0;34m:\u001b[0m\u001b[0;34m\u001b[0m\u001b[0;34m\u001b[0m\u001b[0m\n\u001b[0;32m--> 951\u001b[0;31m                 \u001b[0mself\u001b[0m\u001b[0;34m.\u001b[0m\u001b[0mconnect\u001b[0m\u001b[0;34m(\u001b[0m\u001b[0;34m)\u001b[0m\u001b[0;34m\u001b[0m\u001b[0;34m\u001b[0m\u001b[0m\n\u001b[0m\u001b[1;32m    952\u001b[0m             \u001b[0;32melse\u001b[0m\u001b[0;34m:\u001b[0m\u001b[0;34m\u001b[0m\u001b[0;34m\u001b[0m\u001b[0m\n\u001b[1;32m    953\u001b[0m                 \u001b[0;32mraise\u001b[0m \u001b[0mNotConnected\u001b[0m\u001b[0;34m(\u001b[0m\u001b[0;34m)\u001b[0m\u001b[0;34m\u001b[0m\u001b[0;34m\u001b[0m\u001b[0m\n",
            "\u001b[0;32m/usr/lib/python3.8/http/client.py\u001b[0m in \u001b[0;36mconnect\u001b[0;34m(self)\u001b[0m\n\u001b[1;32m   1416\u001b[0m             \u001b[0;34m\"Connect to a host on a given (SSL) port.\"\u001b[0m\u001b[0;34m\u001b[0m\u001b[0;34m\u001b[0m\u001b[0m\n\u001b[1;32m   1417\u001b[0m \u001b[0;34m\u001b[0m\u001b[0m\n\u001b[0;32m-> 1418\u001b[0;31m             \u001b[0msuper\u001b[0m\u001b[0;34m(\u001b[0m\u001b[0;34m)\u001b[0m\u001b[0;34m.\u001b[0m\u001b[0mconnect\u001b[0m\u001b[0;34m(\u001b[0m\u001b[0;34m)\u001b[0m\u001b[0;34m\u001b[0m\u001b[0;34m\u001b[0m\u001b[0m\n\u001b[0m\u001b[1;32m   1419\u001b[0m \u001b[0;34m\u001b[0m\u001b[0m\n\u001b[1;32m   1420\u001b[0m             \u001b[0;32mif\u001b[0m \u001b[0mself\u001b[0m\u001b[0;34m.\u001b[0m\u001b[0m_tunnel_host\u001b[0m\u001b[0;34m:\u001b[0m\u001b[0;34m\u001b[0m\u001b[0;34m\u001b[0m\u001b[0m\n",
            "\u001b[0;32m/usr/lib/python3.8/http/client.py\u001b[0m in \u001b[0;36mconnect\u001b[0;34m(self)\u001b[0m\n\u001b[1;32m    920\u001b[0m     \u001b[0;32mdef\u001b[0m \u001b[0mconnect\u001b[0m\u001b[0;34m(\u001b[0m\u001b[0mself\u001b[0m\u001b[0;34m)\u001b[0m\u001b[0;34m:\u001b[0m\u001b[0;34m\u001b[0m\u001b[0;34m\u001b[0m\u001b[0m\n\u001b[1;32m    921\u001b[0m         \u001b[0;34m\"\"\"Connect to the host and port specified in __init__.\"\"\"\u001b[0m\u001b[0;34m\u001b[0m\u001b[0;34m\u001b[0m\u001b[0m\n\u001b[0;32m--> 922\u001b[0;31m         self.sock = self._create_connection(\n\u001b[0m\u001b[1;32m    923\u001b[0m             (self.host,self.port), self.timeout, self.source_address)\n\u001b[1;32m    924\u001b[0m         \u001b[0mself\u001b[0m\u001b[0;34m.\u001b[0m\u001b[0msock\u001b[0m\u001b[0;34m.\u001b[0m\u001b[0msetsockopt\u001b[0m\u001b[0;34m(\u001b[0m\u001b[0msocket\u001b[0m\u001b[0;34m.\u001b[0m\u001b[0mIPPROTO_TCP\u001b[0m\u001b[0;34m,\u001b[0m \u001b[0msocket\u001b[0m\u001b[0;34m.\u001b[0m\u001b[0mTCP_NODELAY\u001b[0m\u001b[0;34m,\u001b[0m \u001b[0;36m1\u001b[0m\u001b[0;34m)\u001b[0m\u001b[0;34m\u001b[0m\u001b[0;34m\u001b[0m\u001b[0m\n",
            "\u001b[0;32m/usr/lib/python3.8/socket.py\u001b[0m in \u001b[0;36mcreate_connection\u001b[0;34m(address, timeout, source_address)\u001b[0m\n\u001b[1;32m    794\u001b[0m             \u001b[0;32mif\u001b[0m \u001b[0msource_address\u001b[0m\u001b[0;34m:\u001b[0m\u001b[0;34m\u001b[0m\u001b[0;34m\u001b[0m\u001b[0m\n\u001b[1;32m    795\u001b[0m                 \u001b[0msock\u001b[0m\u001b[0;34m.\u001b[0m\u001b[0mbind\u001b[0m\u001b[0;34m(\u001b[0m\u001b[0msource_address\u001b[0m\u001b[0;34m)\u001b[0m\u001b[0;34m\u001b[0m\u001b[0;34m\u001b[0m\u001b[0m\n\u001b[0;32m--> 796\u001b[0;31m             \u001b[0msock\u001b[0m\u001b[0;34m.\u001b[0m\u001b[0mconnect\u001b[0m\u001b[0;34m(\u001b[0m\u001b[0msa\u001b[0m\u001b[0;34m)\u001b[0m\u001b[0;34m\u001b[0m\u001b[0;34m\u001b[0m\u001b[0m\n\u001b[0m\u001b[1;32m    797\u001b[0m             \u001b[0;31m# Break explicitly a reference cycle\u001b[0m\u001b[0;34m\u001b[0m\u001b[0;34m\u001b[0m\u001b[0;34m\u001b[0m\u001b[0m\n\u001b[1;32m    798\u001b[0m             \u001b[0merr\u001b[0m \u001b[0;34m=\u001b[0m \u001b[0;32mNone\u001b[0m\u001b[0;34m\u001b[0m\u001b[0;34m\u001b[0m\u001b[0m\n",
            "\u001b[0;31mKeyboardInterrupt\u001b[0m: "
          ]
        }
      ],
      "source": [
        "n_images = 1000\n",
        "images = np.zeros((n_images, 224, 224, 3), dtype=np.uint8)\n",
        "urls = data_mad['Thumbnail Url']\n",
        "\n",
        "i_aux = 0\n",
        "good_urls = []\n",
        "for i_img, url in enumerate(urls):\n",
        "    if len(good_urls) >= n_images:\n",
        "        # ya tenemos n_images imágenes\n",
        "        break\n",
        "    try:\n",
        "        img = io.imread(url)\n",
        "        images_aux = cv2.resize(img, (224, 224))\n",
        "        if images_aux.shape == (224, 224, 3):\n",
        "          images[i_aux]=images_aux\n",
        "          good_urls.append(i_img)\n",
        "          i_aux += 1\n",
        "          print(f'Imagen {i_img} descargada')\n",
        "          print(len(good_urls))\n",
        "        else:\n",
        "          pass\n",
        "    except IOError as err:\n",
        "        pass"
      ]
    },
    {
      "cell_type": "code",
      "execution_count": null,
      "metadata": {
        "colab": {
          "background_save": true
        },
        "id": "-gznEugfHjCl"
      },
      "outputs": [],
      "source": [
        "# Visualizamos las imágenes cargadas\n",
        "print(images.shape)"
      ]
    },
    {
      "cell_type": "code",
      "execution_count": null,
      "metadata": {
        "colab": {
          "background_save": true
        },
        "id": "qCeo4jRrH7z4"
      },
      "outputs": [],
      "source": [
        "# Mantenemos los datos numéricos solo para aquellos pisos que tienen imágenes \n",
        "# y las hemos obtenido\n",
        "final_data = data_mad.iloc[good_urls, :]"
      ]
    },
    {
      "cell_type": "code",
      "execution_count": null,
      "metadata": {
        "colab": {
          "background_save": true
        },
        "id": "OQ5pKRzuJbxT"
      },
      "outputs": [],
      "source": [
        "print(final_data.shape)"
      ]
    },
    {
      "cell_type": "code",
      "execution_count": null,
      "metadata": {
        "colab": {
          "background_save": true
        },
        "id": "3wnTyVd5VF_D"
      },
      "outputs": [],
      "source": [
        "# guardamos las imágenes (y yo os recomiendo que os lo guardéis en GDrive para evitar tener que repetir esto)\n",
        "np.save('images.npy', images)\n",
        "np.save('final_data.npy', final_data)\n",
        "np.save('good_url.npy', good_urls)"
      ]
    },
    {
      "cell_type": "code",
      "execution_count": null,
      "metadata": {
        "colab": {
          "background_save": true
        },
        "id": "qxrlXC0mDzMh"
      },
      "outputs": [],
      "source": [
        "# almacenamos las imagenes en nuestro drive\n",
        "!cp images.npy /content/drive/MyDrive/DL/images.npy\n",
        "!cp final_data.npy /content/drive/MyDrive/DL/final_data.npy\n",
        "!cp good_url.npy /content/drive/MyDrive/DL/good_url.npy\n"
      ]
    },
    {
      "cell_type": "code",
      "execution_count": null,
      "metadata": {
        "colab": {
          "background_save": true
        },
        "id": "PhgtsVsXMJrn"
      },
      "outputs": [],
      "source": [
        "!ls -lah images.npy final_data.npy good_url.npy"
      ]
    },
    {
      "cell_type": "code",
      "execution_count": null,
      "metadata": {
        "colab": {
          "background_save": true
        },
        "id": "HZOMEGnoBcvD"
      },
      "outputs": [],
      "source": [
        "#Elimino del dataset la variable de las urls porque ya no la necesito\n",
        "\n",
        "final_data = final_data.drop(['Thumbnail Url'], axis=1)\n",
        "final_data.head(3)"
      ]
    },
    {
      "cell_type": "markdown",
      "metadata": {
        "id": "FTNSp6OZ65Ff"
      },
      "source": [
        "### División de los datos"
      ]
    },
    {
      "cell_type": "code",
      "execution_count": null,
      "metadata": {
        "colab": {
          "background_save": true
        },
        "id": "KsHkSUd46P76"
      },
      "outputs": [],
      "source": [
        "#Divido entre train y test\n",
        "train, test = train_test_split(final_data, test_size=0.2, shuffle=True, random_state=42)\n",
        "print(f'Dimensiones del dataset de training: {train.shape}')\n",
        "print(f'Dimensiones del dataset de test: {test.shape}')\n",
        "\n",
        "#guardo los CSV en local\n",
        "train.to_csv('./train.csv', sep=';', decimal='.', index=False)\n",
        "test.to_csv('./test.csv', sep=';', decimal='.', index=False)"
      ]
    },
    {
      "cell_type": "code",
      "execution_count": null,
      "metadata": {
        "colab": {
          "background_save": true
        },
        "id": "1Om-K9N5w7VK"
      },
      "outputs": [],
      "source": [
        "#compruebo que tengo los indices originales\n",
        "train.head()"
      ]
    },
    {
      "cell_type": "code",
      "execution_count": null,
      "metadata": {
        "colab": {
          "background_save": true
        },
        "id": "FJtHRiddxElW"
      },
      "outputs": [],
      "source": [
        "test.head()"
      ]
    },
    {
      "cell_type": "markdown",
      "metadata": {
        "id": "TCcKwyca86x2"
      },
      "source": [
        "### Cargamos los datos de train "
      ]
    },
    {
      "cell_type": "code",
      "execution_count": null,
      "metadata": {
        "colab": {
          "background_save": true
        },
        "id": "r8lFUEUY7rpO"
      },
      "outputs": [],
      "source": [
        "#cargo los datos de train para trabajar con ellos\n",
        "#df_train = pd.read_csv('./train.csv', sep=';', decimal='.') #OJO! si cargo el csv me cambia los indices porque lee de nuevo y hace un df del csv\n",
        "df_train = train\n",
        "df_train.shape"
      ]
    },
    {
      "cell_type": "markdown",
      "metadata": {
        "id": "rcHkk6JcSPBw"
      },
      "source": [
        "### Análisis exploratorio de train"
      ]
    },
    {
      "cell_type": "code",
      "execution_count": null,
      "metadata": {
        "colab": {
          "background_save": true
        },
        "id": "GVZem9c_uaLL"
      },
      "outputs": [],
      "source": [
        "#eliminar variables irrelevantes para el modelo, las 4 últimas son fruto de una regularización anterior por lasso\n",
        "df_train = df_train.drop(['Neighbourhood','City','Zipcode','ID','Listing Url','Scrape ID','Last Scraped',\n",
        "                                  'Name', 'Summary','Space','Description','Experiences Offered','Neighborhood Overview',\n",
        "                                  'Notes','Amenities','Square Feet','Transit','Access' ,'Interaction', 'House Rules' ,\n",
        "                                  'Medium Url','Picture Url','XL Picture Url','Host ID', 'Host URL', \n",
        "                                  'Host Name', 'Host Since', 'Host Location', 'Host About','Host Response Time',\n",
        "                                  'Host Response Rate','Host Acceptance Rate','Host Thumbnail Url','Host Picture Url', \n",
        "                                  'Host Neighbourhood','Host Listings Count','Host Total Listings Count','Host Verifications',\n",
        "                                  'Street','Neighbourhood Group Cleansed','State','Market','Smart Location','Country Code',\n",
        "                                  'Country','Latitude','Longitude', 'Security Deposit','Cleaning Fee',\n",
        "                                  'Minimum Nights','Maximum Nights','Calendar Updated','Has Availability','Availability 30',\n",
        "                                  'Availability 60','Availability 90','Availability 365','Calendar last Scraped', \n",
        "                                  'First Review','Last Review','Review Scores Accuracy','Review Scores Cleanliness',\n",
        "                                  'Review Scores Checkin','Weekly Price', 'Monthly Price','Review Scores Communication',\n",
        "                                  'Review Scores Location','Review Scores Value','License','Jurisdiction Names',\n",
        "                                  'Calculated host listings count','Reviews per Month','Geolocation','Features','Guests Included', \n",
        "                                  'Cancellation Policy','Bed Type','Property Type' ], axis=1)\n",
        "df_train.columns"
      ]
    },
    {
      "cell_type": "code",
      "execution_count": null,
      "metadata": {
        "colab": {
          "background_save": true
        },
        "id": "RCvZa1ib2Bji"
      },
      "outputs": [],
      "source": [
        "#renombro las columnas\n",
        "df_train.columns=['index','Neighbourhood_Cleansed', 'Room_Type','Accommodates',\n",
        "                  'Bathrooms', 'Bedrooms', 'Beds','Price','Extra_People',\n",
        "                      'Number_of_Reviews', 'Review_Scores_Rating']"
      ]
    },
    {
      "cell_type": "code",
      "execution_count": null,
      "metadata": {
        "colab": {
          "background_save": true
        },
        "id": "DzcLFyUFmuJk"
      },
      "outputs": [],
      "source": [
        "#búsqueda de valores nulos\n",
        "df_train.isnull().any()"
      ]
    },
    {
      "cell_type": "code",
      "execution_count": null,
      "metadata": {
        "colab": {
          "background_save": true
        },
        "id": "JlUlFCV_1hH5"
      },
      "outputs": [],
      "source": [
        "#contabilizo los valores nulos\n",
        "print(f'Bathrooms tiene: ', df_train['Bathrooms'].isnull().sum())\n",
        "print(f'Bedrooms tiene: ', df_train['Bedrooms'].isnull().sum())\n",
        "print(f'Beds tiene: ', df_train['Beds'].isnull().sum())\n",
        "print(f'Review_Scores_Rating tiene: ', df_train['Review_Scores_Rating'].isnull().sum())"
      ]
    },
    {
      "cell_type": "code",
      "execution_count": null,
      "metadata": {
        "colab": {
          "background_save": true
        },
        "id": "QlZruaDwuagR"
      },
      "outputs": [],
      "source": [
        "#Imputación de valores nulos por la moda\n",
        "df_train[\"Bathrooms\"].fillna(df_train[\"Bathrooms\"].mode()[0], inplace=True)\n",
        "df_train[\"Bedrooms\"].fillna(df_train[\"Bedrooms\"].mode()[0], inplace=True)\n",
        "df_train[\"Beds\"].fillna(df_train[\"Beds\"].mode()[0], inplace=True)\n",
        "df_train[\"Review_Scores_Rating\"].fillna(df_train[\"Review_Scores_Rating\"].mode()[0], inplace=True) \n",
        "#compruebo\n",
        "print(f'Bathrooms tiene: ', df_train['Bathrooms'].isnull().sum())\n",
        "print(f'Bedrooms tiene: ', df_train['Bedrooms'].isnull().sum())\n",
        "print(f'Beds tiene: ', df_train['Beds'].isnull().sum())\n",
        "print(f'Review_Scores_Rating tiene: ', df_train['Review_Scores_Rating'].isnull().sum())"
      ]
    },
    {
      "cell_type": "code",
      "execution_count": null,
      "metadata": {
        "colab": {
          "background_save": true
        },
        "id": "Y4a6XuxjvQwo"
      },
      "outputs": [],
      "source": [
        "#codificación de variables categóricas\n",
        "df_train.dtypes"
      ]
    },
    {
      "cell_type": "code",
      "execution_count": null,
      "metadata": {
        "colab": {
          "background_save": true
        },
        "id": "-vGoWX0h3ZGn"
      },
      "outputs": [],
      "source": [
        "#utilizo MeanEncoder para imputar con la media de la variable objetivo, menos las imagenes\n",
        "categorical = ['Neighbourhood_Cleansed', 'Room_Type']\n",
        "\n",
        "mean_map = {}\n",
        "for c in categorical:\n",
        "    mean = df_train.groupby(c)['Price'].mean()\n",
        "    df_train[c] = df_train[c].map(mean)    \n",
        "    mean_map[c] = mean\n",
        "df_train.dtypes"
      ]
    },
    {
      "cell_type": "code",
      "execution_count": null,
      "metadata": {
        "colab": {
          "background_save": true
        },
        "id": "eg0w3ySbWKB8"
      },
      "outputs": [],
      "source": [
        "df_train"
      ]
    },
    {
      "cell_type": "code",
      "execution_count": null,
      "metadata": {
        "colab": {
          "background_save": true
        },
        "id": "sHDoDYrT38Tz"
      },
      "outputs": [],
      "source": [
        "#Observación y limpieza de outlaiers\n",
        "\n",
        "#scatter Bedrooms x Price\n",
        "df_train.plot(kind = 'scatter',x='Bedrooms',y = 'Price')\n",
        "plt.xlabel('Bedrooms')\n",
        "plt.ylabel('Price')\n",
        "plt.show()\n",
        "\n",
        "#boxplot Bathrooms x Price\n",
        "df_train.plot(kind = 'scatter',x='Bathrooms',y = 'Price')\n",
        "plt.xlabel('Bathrooms')\n",
        "plt.ylabel('price')\n",
        "plt.show()\n",
        "\n",
        "#boxplot Beds x Price\n",
        "df_train.boxplot(by='Beds',column = 'Price')\n",
        "plt.show()\n",
        "\n",
        "#boxplot Accommodates x Price\n",
        "df_train.plot(kind = 'scatter',x='Accommodates',y = 'Price')\n",
        "plt.xlabel('Accommodates')\n",
        "plt.ylabel('price')\n",
        "plt.show()\n"
      ]
    },
    {
      "cell_type": "code",
      "execution_count": null,
      "metadata": {
        "colab": {
          "background_save": true
        },
        "id": "2pIkjDkE7dya"
      },
      "outputs": [],
      "source": [
        "#aplico filtros para reducir outliers\n",
        "df_train_filter = df_train[(df_train['Bedrooms'] > 0) & (df_train['Bedrooms'] < 7)]\n",
        "df_train_filter2 = df_train_filter[(df_train_filter['Bathrooms'] > 0) & (df_train_filter['Bathrooms'] < 4.5)]\n",
        "\n",
        "df_train_filter4 = df_train_filter2[(df_train_filter2['Accommodates'] > 1) & (df_train_filter2['Accommodates'] < 11)]"
      ]
    },
    {
      "cell_type": "code",
      "execution_count": null,
      "metadata": {
        "colab": {
          "background_save": true
        },
        "id": "tGx1JJ72-qoo"
      },
      "outputs": [],
      "source": [
        "#análisis de correlación \n",
        "df_train_filter4.corr().T"
      ]
    },
    {
      "cell_type": "code",
      "execution_count": null,
      "metadata": {
        "colab": {
          "background_save": true
        },
        "id": "KuxddFUWWDLy"
      },
      "outputs": [],
      "source": [
        "df_train_filter4.index"
      ]
    },
    {
      "cell_type": "code",
      "execution_count": null,
      "metadata": {
        "colab": {
          "background_save": true
        },
        "id": "XJ28WAEL-yv1"
      },
      "outputs": [],
      "source": [
        "# Compute the correlation matrix\n",
        "corr = np.abs(df_train_filter4.drop(['Price'], axis=1).corr())\n",
        "\n",
        "# Generate a mask for the upper triangle\n",
        "mask = np.zeros_like(corr, dtype=np.bool)\n",
        "mask[np.triu_indices_from(mask)] = True\n",
        "\n",
        "# Set up the matplotlib figure\n",
        "f, ax = plt.subplots(figsize=(12, 10))\n",
        "\n",
        "# Draw the heatmap with the mask and correct aspect ratio\n",
        "sns.heatmap(corr, mask=mask,vmin = 0.0, vmax=1.0, center=0.5,\n",
        "            linewidths=.1, cmap=\"YlGnBu\", cbar_kws={\"shrink\": .8})\n",
        "\n",
        "plt.show()"
      ]
    },
    {
      "cell_type": "code",
      "execution_count": null,
      "metadata": {
        "colab": {
          "background_save": true
        },
        "id": "2Vd62Eu5_LEQ"
      },
      "outputs": [],
      "source": [
        "#elimino Beds por colinealidad con accommodates\n",
        "df_training= df_train_filter4.drop(['Beds'],axis=1)"
      ]
    },
    {
      "cell_type": "code",
      "execution_count": null,
      "metadata": {
        "colab": {
          "background_save": true
        },
        "id": "4MMjyuF_Xk-m"
      },
      "outputs": [],
      "source": [
        "#veo las variables que me quedan\n",
        "df_training.columns"
      ]
    },
    {
      "cell_type": "code",
      "execution_count": null,
      "metadata": {
        "colab": {
          "background_save": true
        },
        "id": "V55ezJS5XxwM"
      },
      "outputs": [],
      "source": [
        "#las nuevas medidas del df\n",
        "df_training.shape"
      ]
    },
    {
      "cell_type": "code",
      "execution_count": null,
      "metadata": {
        "colab": {
          "background_save": true
        },
        "id": "rWJnUVe7nd7n"
      },
      "outputs": [],
      "source": [
        "df_training.fillna(0, inplace=True) #reemplazo los valores nulos a 0 por si los hubiera."
      ]
    },
    {
      "cell_type": "code",
      "execution_count": null,
      "metadata": {
        "colab": {
          "background_save": true
        },
        "id": "SlvQKNVinnMD"
      },
      "outputs": [],
      "source": [
        "df_training.isnull().values.any() #me aseguro de que no hay valores nulos"
      ]
    },
    {
      "cell_type": "markdown",
      "metadata": {
        "id": "r_vKnIUkDmOE"
      },
      "source": [
        "### División de los datos de entrenamiento, la etiqueta y 'Price' por un lado, el resto por otro."
      ]
    },
    {
      "cell_type": "code",
      "execution_count": null,
      "metadata": {
        "colab": {
          "background_save": true
        },
        "id": "YUUUa4K7mbcD"
      },
      "outputs": [],
      "source": [
        "#Divido en X e y los datos del df\n",
        "X_train =df_training.drop(['Price'], axis=1) # me defino un df sin la variable objetivo\n",
        "\n",
        "# Obtener las etiquetas de regresion y_reg que la voy a llamar y_train\n",
        "Y_train = df_training['Price'] #esta es mi variable objetivo\n",
        "\n",
        "print('Filas, columnas', X_train.shape)\n",
        "print('Filas, columnas', Y_train.shape)"
      ]
    },
    {
      "cell_type": "markdown",
      "metadata": {
        "id": "SID6IWbWpn31"
      },
      "source": [
        "## Cargo las imagenes de train para después"
      ]
    },
    {
      "cell_type": "code",
      "execution_count": null,
      "metadata": {
        "colab": {
          "background_save": true
        },
        "id": "kNVsRak9pm3u"
      },
      "outputs": [],
      "source": [
        "#Busco las imagenes de los train para el modelo CNN\n",
        "images = np.load('./images.npy')\n",
        "good_url = np.load('./good_url.npy')\n",
        "indices_train= X_train.index #obtengo los indices de mi conjunto de entrenamiento\n",
        "\n",
        "#me paso good_url a array #(podía haber lo hecho con good_urls que ya era una lista)\n",
        "index_ = [] \n",
        "for elemento in good_url:\n",
        "    index_.append(elemento)\n",
        "\n",
        "#voy a buscar los indices de las imagenes que tengo en mi X_train\n",
        "images_train_index= []\n",
        "\n",
        "for elemento in indices_train:\n",
        "   images_train_index.append(elemento)\n",
        "\n",
        "#comparo los indices de train con good_url y asocio las imagenes \n",
        "imagenes_train=[]\n",
        "\n",
        "for elemento in indices_train:\n",
        "  for posicion, indice in enumerate(index_):\n",
        "      if elemento == indice:\n",
        "          imagenes_train.append(images[posicion])\n",
        "\n"
      ]
    },
    {
      "cell_type": "code",
      "execution_count": null,
      "metadata": {
        "colab": {
          "background_save": true
        },
        "id": "bKUukgSSmZi2"
      },
      "outputs": [],
      "source": [
        "indices_not_in_index_= []\n",
        "def conjuntos(X_train,index):\n",
        "  for a in X_train.index:\n",
        "    if a not in index_:\n",
        "      indices_not_in_index_.append(a)\n",
        "      return False\n",
        "  a +=1\n",
        "  return True\n",
        "conjuntos(X_train,index_)"
      ]
    },
    {
      "cell_type": "code",
      "execution_count": null,
      "metadata": {
        "colab": {
          "background_save": true
        },
        "id": "yBj3Ni7hPs5Z"
      },
      "outputs": [],
      "source": [
        "len(imagenes_train)"
      ]
    },
    {
      "cell_type": "code",
      "execution_count": null,
      "metadata": {
        "colab": {
          "background_save": true
        },
        "id": "N4xgjbxt9fn0"
      },
      "outputs": [],
      "source": [
        "imagenes_train"
      ]
    },
    {
      "cell_type": "markdown",
      "metadata": {
        "id": "Mz9KDgtuuFQ_"
      },
      "source": [
        "### Preparo y normalizo los datos de train"
      ]
    },
    {
      "cell_type": "code",
      "execution_count": null,
      "metadata": {
        "colab": {
          "background_save": true
        },
        "id": "1XSRvTqKER4k"
      },
      "outputs": [],
      "source": [
        "from sklearn.preprocessing import MinMaxScaler\n",
        "#Normalizo las etiquetas con el máximo\n",
        "Y_train_norm = Y_train /Y_train.max() \n",
        "\n",
        "#normalizo el resto de los datos con StandarScaler\n",
        "scaler = MinMaxScaler(feature_range=(0, 1))\n",
        "X_train_norm = scaler.fit_transform(X_train)\n"
      ]
    },
    {
      "cell_type": "code",
      "execution_count": null,
      "metadata": {
        "colab": {
          "background_save": true
        },
        "id": "rFdQeqqj6Xui"
      },
      "outputs": [],
      "source": [
        "Y_train_norm"
      ]
    },
    {
      "cell_type": "code",
      "execution_count": null,
      "metadata": {
        "colab": {
          "background_save": true
        },
        "id": "LZjijSvQ6W3m"
      },
      "outputs": [],
      "source": [
        "X_train_norm"
      ]
    },
    {
      "cell_type": "markdown",
      "metadata": {
        "id": "Ko4gK2YPFOYS"
      },
      "source": [
        "### Cargamos los datos de test"
      ]
    },
    {
      "cell_type": "code",
      "execution_count": null,
      "metadata": {
        "colab": {
          "background_save": true
        },
        "id": "dF7AxiMyaMRq"
      },
      "outputs": [],
      "source": [
        "#df_test = pd.read_csv('./test.csv', sep=';', decimal='.') #OJO! si cargo el csv me cambia los indices porque lee de nuevo y hace un df del csv\n",
        "df_test = test\n",
        "df_test.head()"
      ]
    },
    {
      "cell_type": "markdown",
      "metadata": {
        "id": "5MmiRnm-DZLz"
      },
      "source": [
        "### Aplicamos los mismos filtros que he aplicado en train"
      ]
    },
    {
      "cell_type": "code",
      "execution_count": null,
      "metadata": {
        "colab": {
          "background_save": true
        },
        "id": "oQ1_kQmBfPlP"
      },
      "outputs": [],
      "source": [
        "#elimino las filas que no son de Madrid\n",
        "df_test = df_test.loc[df_test['City']=='Madrid']\n",
        "#compruebo que las he eliminado\n",
        "(df_test['City'] != 'Madrid').sum()"
      ]
    },
    {
      "cell_type": "code",
      "execution_count": null,
      "metadata": {
        "colab": {
          "background_save": true
        },
        "id": "6xHkfbLXfPlZ"
      },
      "outputs": [],
      "source": [
        "#eliminar variables irrelevantes para el modelo\n",
        "df_test = df_test.drop(['Neighbourhood','City','Zipcode','ID','Listing Url','Scrape ID','Last Scraped',\n",
        "                                  'Name', 'Summary','Space','Description','Experiences Offered','Neighborhood Overview',\n",
        "                                  'Notes','Amenities','Square Feet','Transit','Access' ,'Interaction', 'House Rules' ,\n",
        "                                  'Medium Url','Picture Url','XL Picture Url','Host ID', 'Host URL', \n",
        "                                  'Host Name', 'Host Since', 'Host Location', 'Host About','Host Response Time',\n",
        "                                  'Host Response Rate','Host Acceptance Rate','Host Thumbnail Url','Host Picture Url', \n",
        "                                  'Host Neighbourhood','Host Listings Count','Host Total Listings Count','Host Verifications',\n",
        "                                  'Street','Neighbourhood Group Cleansed','State','Market','Smart Location','Country Code',\n",
        "                                  'Country','Latitude','Longitude', 'Security Deposit','Cleaning Fee',\n",
        "                                  'Minimum Nights','Maximum Nights','Calendar Updated','Has Availability','Availability 30',\n",
        "                                  'Availability 60','Availability 90','Availability 365','Calendar last Scraped', \n",
        "                                  'First Review','Last Review','Review Scores Accuracy','Review Scores Cleanliness',\n",
        "                                  'Review Scores Checkin','Weekly Price', 'Monthly Price','Review Scores Communication',\n",
        "                                  'Review Scores Location','Review Scores Value','License','Jurisdiction Names',\n",
        "                                  'Calculated host listings count','Reviews per Month','Geolocation','Features','Guests Included', \n",
        "                                  'Cancellation Policy','Bed Type','Property Type' ], axis=1)\n",
        "df_train.columns"
      ]
    },
    {
      "cell_type": "code",
      "execution_count": null,
      "metadata": {
        "colab": {
          "background_save": true
        },
        "id": "pl8m707PfPlZ"
      },
      "outputs": [],
      "source": [
        "#renombro las columnas\n",
        "df_test.columns=['index','Neighbourhood_Cleansed', 'Room_Type','Accommodates',\n",
        "                  'Bathrooms', 'Bedrooms', 'Beds','Price','Extra_People',\n",
        "                      'Number_of_Reviews', 'Review_Scores_Rating']"
      ]
    },
    {
      "cell_type": "code",
      "execution_count": null,
      "metadata": {
        "colab": {
          "background_save": true
        },
        "id": "1Ag2mjzPfPla"
      },
      "outputs": [],
      "source": [
        "#Imputación de valores nulos por la moda\n",
        "df_test[\"Bedrooms\"].fillna(df_test[\"Bedrooms\"].mode()[0], inplace=True)\n",
        "df_test[\"Review_Scores_Rating\"].fillna(df_test[\"Review_Scores_Rating\"].mode()[0], inplace=True) \n",
        "#compruebo\n",
        "print(f'Bedrooms tiene: ', df_test['Bedrooms'].isnull().sum())\n",
        "print(f'Review_Scores_Rating tiene: ', df_test['Review_Scores_Rating'].isnull().sum())"
      ]
    },
    {
      "cell_type": "code",
      "execution_count": null,
      "metadata": {
        "colab": {
          "background_save": true
        },
        "id": "9yvfz29gfvcp"
      },
      "outputs": [],
      "source": [
        "#compruebo si hay más valores nulos \n",
        "df_test.isnull().any()"
      ]
    },
    {
      "cell_type": "code",
      "execution_count": null,
      "metadata": {
        "colab": {
          "background_save": true
        },
        "id": "BCcA7he_fPla"
      },
      "outputs": [],
      "source": [
        "#utilizo MeanEncoder para imputar con la media de la variable objetivo\n",
        "categorical = ['Neighbourhood_Cleansed', 'Room_Type']\n",
        "\n",
        "mean_map = {}\n",
        "for c in categorical:\n",
        "    mean = df_test.groupby(c)['Price'].mean()\n",
        "    df_test[c] = df_test[c].map(mean)    \n",
        "    mean_map[c] = mean\n",
        "df_test.dtypes"
      ]
    },
    {
      "cell_type": "code",
      "execution_count": null,
      "metadata": {
        "colab": {
          "background_save": true
        },
        "id": "eGW4yeq2fPla"
      },
      "outputs": [],
      "source": [
        "#aplico filtros para reducir outliers\n",
        "df_test_filter = df_test[(df_test['Bedrooms'] > 0) & (df_test['Bedrooms'] < 7)]\n",
        "df_test_filter2 = df_test_filter[(df_test_filter['Bathrooms'] > 0) & (df_test_filter['Bathrooms'] < 4.5)]\n",
        "\n",
        "df_test_filter4 = df_test_filter2[(df_test_filter2['Accommodates'] > 1) & (df_test_filter2['Accommodates'] < 11)]"
      ]
    },
    {
      "cell_type": "code",
      "execution_count": null,
      "metadata": {
        "colab": {
          "background_save": true
        },
        "id": "hOZXf_R7fPla"
      },
      "outputs": [],
      "source": [
        "#elimino Beds por colinealidad con accommodates\n",
        "df_testing= df_test_filter4.drop(['Beds'],axis=1)"
      ]
    },
    {
      "cell_type": "code",
      "execution_count": null,
      "metadata": {
        "colab": {
          "background_save": true
        },
        "id": "4DJIU8ZjfPla"
      },
      "outputs": [],
      "source": [
        "#veo las variables que me quedan\n",
        "df_testing.columns"
      ]
    },
    {
      "cell_type": "code",
      "execution_count": null,
      "metadata": {
        "colab": {
          "background_save": true
        },
        "id": "WmQ2YEMRfPla"
      },
      "outputs": [],
      "source": [
        "#las nuevas medidas del df\n",
        "df_testing.shape"
      ]
    },
    {
      "cell_type": "code",
      "execution_count": null,
      "metadata": {
        "colab": {
          "background_save": true
        },
        "id": "GazDC6Z3mena"
      },
      "outputs": [],
      "source": [
        "df_testing.fillna(0, inplace=True) #reemplazo los valores nulos a 0 por si los hubiera."
      ]
    },
    {
      "cell_type": "code",
      "execution_count": null,
      "metadata": {
        "colab": {
          "background_save": true
        },
        "id": "H5EF0Dyfl-9Y"
      },
      "outputs": [],
      "source": [
        "df_testing.isnull().values.any()"
      ]
    },
    {
      "cell_type": "markdown",
      "metadata": {
        "id": "inkb-EECaTBm"
      },
      "source": [
        "### Split en X e y  de los datos de test"
      ]
    },
    {
      "cell_type": "code",
      "execution_count": null,
      "metadata": {
        "colab": {
          "background_save": true
        },
        "id": "uzXaNuJOnAWB"
      },
      "outputs": [],
      "source": [
        "#excluyo las etiquetas del split\n",
        "X_test =df_testing.drop(['Price'], axis=1) # me defino un df sin la variable objetivo\n",
        "\n",
        "# Obtener las etiquetas de regresion y_reg que la voy a llamar y_test\n",
        "Y_test = df_testing['Price'] #esta es mi variable objetivo\n",
        "\n",
        "print('Filas, columnas', X_test.shape)\n",
        "print('Filas, columnas', Y_test.shape)"
      ]
    },
    {
      "cell_type": "markdown",
      "metadata": {
        "id": "8b7BGaYNoo0m"
      },
      "source": [
        "## me saco las imagenes para luego"
      ]
    },
    {
      "cell_type": "code",
      "execution_count": null,
      "metadata": {
        "colab": {
          "background_save": true
        },
        "id": "YMYtynO6uP5X"
      },
      "outputs": [],
      "source": [
        "#Busco las imagenes de test para el modelo CNN\n",
        "\n",
        "#images = np.load('./images.npy') ya está cargado\n",
        "#good_url = np.load('./good_url.npy') ya está cargado\n",
        "indices_test= X_test.index\n",
        "\n",
        "#me paso good_url a lista (podía haber lo hecho con good_urls que ya era una lista)\n",
        "index_tst_ = [] \n",
        "for elemento in good_url:\n",
        "    index_tst_.append(elemento)\n",
        "  \n",
        "\n",
        "#voy a buscar los indices de las imagenes que tengo en mi X_train\n",
        "images_test_index= []\n",
        "\n",
        "for elemento in indices_test:\n",
        "    images_test_index.append(elemento)\n",
        "\n",
        "\n",
        "\n",
        "#comparo los indices de train con good_url y asocio las imagenes \n",
        "imagenes_test=[]\n",
        "\n",
        "for elemento in indices_test:\n",
        "  for posicion, indice in enumerate(index_tst_):\n",
        "      if elemento == indice:\n",
        "          imagenes_test.append(images[posicion])\n",
        "\n",
        "\n"
      ]
    },
    {
      "cell_type": "code",
      "execution_count": null,
      "metadata": {
        "colab": {
          "background_save": true
        },
        "id": "DGDOTzsRoLZf"
      },
      "outputs": [],
      "source": [
        "len(imagenes_test)"
      ]
    },
    {
      "cell_type": "markdown",
      "metadata": {
        "id": "yRZDx843aMpm"
      },
      "source": [
        "### normalizamos datos de test"
      ]
    },
    {
      "cell_type": "code",
      "execution_count": null,
      "metadata": {
        "colab": {
          "background_save": true
        },
        "id": "olvrVaSdhIC-"
      },
      "outputs": [],
      "source": [
        "# Normalizamos los datos (sin la variable objetivo), entre 0 y 1\n",
        "from sklearn.preprocessing import MinMaxScaler\n",
        "\n",
        "scaler = MinMaxScaler(feature_range=(0, 1))\n",
        "X_test_norm = scaler.fit_transform(X_test) #estandarizo con el fit de train\n",
        "\n",
        "y_test_norm = Y_test /Y_train.max() #estandarizo el precio con el max del precio en train\n",
        "\n",
        "#simplifico el nombre con los datos normalizados, hago este paso para tener claro que he normalizado antes\n",
        "x_train = X_train_norm\n",
        "y_train = Y_train_norm\n",
        "x_test = X_test_norm\n",
        "y_test = y_test_norm"
      ]
    },
    {
      "cell_type": "markdown",
      "metadata": {
        "id": "jn23lu8M6sv_"
      },
      "source": [
        "##### Compruebo que todos mis datos están normalizados entre 0 y 1"
      ]
    },
    {
      "cell_type": "code",
      "execution_count": null,
      "metadata": {
        "colab": {
          "background_save": true
        },
        "id": "B2Hz8wEw6k8n"
      },
      "outputs": [],
      "source": [
        "x_train"
      ]
    },
    {
      "cell_type": "code",
      "execution_count": null,
      "metadata": {
        "colab": {
          "background_save": true
        },
        "id": "36iiN4Fe6lIC"
      },
      "outputs": [],
      "source": [
        "y_train"
      ]
    },
    {
      "cell_type": "code",
      "execution_count": null,
      "metadata": {
        "colab": {
          "background_save": true
        },
        "id": "K1ug_uYc6lSM"
      },
      "outputs": [],
      "source": [
        "x_test"
      ]
    },
    {
      "cell_type": "code",
      "execution_count": null,
      "metadata": {
        "colab": {
          "background_save": true
        },
        "id": "jf7vyHpi6lcm"
      },
      "outputs": [],
      "source": [
        "y_test"
      ]
    },
    {
      "cell_type": "markdown",
      "metadata": {
        "id": "2nyKPKH4rxMd"
      },
      "source": [
        "### Compruebo medidas del dataset \n"
      ]
    },
    {
      "cell_type": "code",
      "execution_count": null,
      "metadata": {
        "colab": {
          "background_save": true
        },
        "id": "exVA7T9TsNJl"
      },
      "outputs": [],
      "source": [
        "# Comprobar el tamaño del dataset\n",
        "print(\"El conjunto de entrenamiento tiene dimensiones: \", x_train.shape)\n",
        "#print(\"El conjunto de validación tiene dimensiones: \",x_val.shape)\n",
        "print(\"El conjunto de test tiene dimensiones: \",x_test.shape)"
      ]
    },
    {
      "cell_type": "markdown",
      "metadata": {
        "id": "bqeuniWm3CAy"
      },
      "source": [
        "## Modelo con datos 1D"
      ]
    },
    {
      "cell_type": "markdown",
      "metadata": {
        "id": "DgJ1WFWsAgYQ"
      },
      "source": [
        "### Importamos librerias"
      ]
    },
    {
      "cell_type": "code",
      "execution_count": null,
      "metadata": {
        "colab": {
          "background_save": true
        },
        "id": "YazOlw6h3CPc"
      },
      "outputs": [],
      "source": [
        "import tensorflow as tf\n",
        "from tensorflow.keras.models import Sequential\n",
        "from sklearn.metrics import classification_report\n",
        "from tensorflow.keras.layers import Dense, Flatten, Input\n",
        "from tensorflow.keras.optimizers.legacy import SGD\n",
        "from tensorflow.keras.optimizers.legacy import Adam\n",
        "import matplotlib.pyplot as plt\n",
        "from pandas.core.common import flatten\n",
        "from tensorflow.keras import optimizers, Model"
      ]
    },
    {
      "cell_type": "code",
      "execution_count": null,
      "metadata": {
        "colab": {
          "background_save": true
        },
        "id": "0guRR15FYZpj"
      },
      "outputs": [],
      "source": [
        "# Hiper-parámetros de nuestra red, pruebo distintos parámetros hasta mejorar mi modelo\n",
        "\n",
        "#lr = 0.1\n",
        "#lr_decay = 1e-4\n",
        "#n_epochs = 200  \n",
        "#batch_size = 128\n",
        "\n",
        "#cambio los parámetros para reducir el consumo de memoria y que tarde menos en entrenar\n",
        "lr = 0.1\n",
        "lr_decay = 1e-4\n",
        "n_epochs = 100\n",
        "batch_size = 64\n",
        "\n",
        "#vuelvo a mejorar los parámetros para que aun me tarde menos al entrenar\n",
        "\n",
        "#lr = 0.05\n",
        "#lr_decay = 1e-4\n",
        "#n_epochs = 50\n",
        "#batch_size = 32\n"
      ]
    },
    {
      "cell_type": "code",
      "execution_count": null,
      "metadata": {
        "colab": {
          "background_save": true
        },
        "id": "vrakejPLRlP6"
      },
      "outputs": [],
      "source": [
        "x_train.shape #este es mi input shape"
      ]
    },
    {
      "cell_type": "code",
      "execution_count": null,
      "metadata": {
        "colab": {
          "background_save": true
        },
        "id": "ZBadkuSQAkV-"
      },
      "outputs": [],
      "source": [
        "np.random.seed(42)\n",
        "# Implementamos la red empleando Keras\n",
        "lineal_model = Sequential() # Instancia de modelo API secuencial #(X)\n",
        "#model.add(Flatten()) # Estiramos los datos en forma de vector como entrada \n",
        "#model.add(Dense(128, activation=\"relu\", kernel_initializer='random_uniform', bias_initializer='zeros'))\n",
        "lineal_model.add(Dense(64, input_shape=(9,),activation=\"relu\")) \n",
        "lineal_model.add(Dense(32, activation=\"relu\")) # Añadimos una capa con 32 neuronas y añadimos una función de activacion\n",
        "lineal_model.add(Dense(1, activation=\"sigmoid\"))  # Construimos nuestro Perceptron\n",
        "  \n",
        "# Compilamos y entrenamos el modelo SGD\n",
        "print(\"[INFO]: Entrenando red neuronal...\")\n",
        "lineal_model.compile(loss=\"mean_squared_error\", optimizer=SGD(lr, decay=lr_decay/n_epochs))  #(X) optimizer='adam'\n",
        "\n",
        "# Entrenando la solución\n",
        "H_lm = lineal_model.fit(x_train, y_train, validation_split=0.2 , epochs=n_epochs, batch_size=batch_size)  #(X) aquí divido los datos de validacion\n",
        "\n",
        "# Genero la predicción con los datos estandarizados de test\n",
        "pred_lm = lineal_model.predict(x_test, batch_size=batch_size)\n",
        "\n",
        "\n",
        "lineal_model.summary()\n",
        "# Muestro gráfica de losses\n",
        "plt.style.use(\"ggplot\")\n",
        "plt.figure()\n",
        "plt.plot(np.arange(0, n_epochs), H_lm.history[\"loss\"], label=\"train_loss\")\n",
        "plt.plot(np.arange(0, n_epochs), H_lm.history[\"val_loss\"], label=\"val_loss\")\n",
        "plt.title(\"Training Loss\")\n",
        "plt.xlabel(\"Epoch\")\n",
        "plt.ylabel(\"Loss\")\n",
        "plt.legend()"
      ]
    },
    {
      "cell_type": "code",
      "execution_count": null,
      "metadata": {
        "colab": {
          "background_save": true
        },
        "id": "DgSKTNfwpNkG"
      },
      "outputs": [],
      "source": [
        "#calculo el mse y el mae del modelo\n",
        "max_Y = Y_train.max()\n",
        "pred_lm_denorm = pred_lm * max_Y\n",
        "y_test_denorm = y_test * max_Y\n",
        "\n",
        "rmse = mean_squared_error(y_true  = y_test_denorm, y_pred  = pred_lm_denorm,squared = False)\n",
        "print(f\"El error cuadrático medio (rmse) de test es: {rmse}\")\n",
        "\n",
        "mae = mean_absolute_error(y_test_denorm, pred_lm_denorm)\n",
        "print(f\"El error aboluto(mae) de test es: {mae}\")"
      ]
    },
    {
      "cell_type": "code",
      "execution_count": null,
      "metadata": {
        "colab": {
          "background_save": true
        },
        "id": "vZWodkvVnBXc"
      },
      "outputs": [],
      "source": [
        "#calculamos las perdidas del modelo\n",
        "test_loss = lineal_model.evaluate(x_test, y_test, verbose=0)\n",
        "print('test loss: ', test_loss) "
      ]
    },
    {
      "cell_type": "markdown",
      "metadata": {
        "id": "nVu9QUDFqDos"
      },
      "source": [
        "##Modelo CNN"
      ]
    },
    {
      "cell_type": "markdown",
      "metadata": {
        "id": "H5IvvNu2KaKs"
      },
      "source": [
        "#### Preparación de los datos"
      ]
    },
    {
      "cell_type": "code",
      "execution_count": null,
      "metadata": {
        "colab": {
          "background_save": true
        },
        "id": "_oQZK1CbYktp"
      },
      "outputs": [],
      "source": [
        "#Preparo los datos \n",
        "X_train_img = imagenes_train\n",
        "X_test_img = imagenes_test"
      ]
    },
    {
      "cell_type": "code",
      "execution_count": null,
      "metadata": {
        "colab": {
          "background_save": true
        },
        "id": "BNTDqcj32gSR"
      },
      "outputs": [],
      "source": [
        "#Comprobamos que tenemos todas las imagenes de X_Train y X_test cargadas con sus indices correspondientes\n",
        "print('El número total de imagenes de entrenamiento es: ',len(imagenes_train)) # no son las imagenes correctas\n",
        "print('El número total de imagenes de testing es: ',len(imagenes_test)) \n",
        "print(\"\\n\")\n",
        "print(\"Las etiquetas de entrenamiento \", y_train.shape)\n",
        "print(\"Las etiquetas de testing: \",y_test.shape)"
      ]
    },
    {
      "cell_type": "code",
      "execution_count": null,
      "metadata": {
        "colab": {
          "background_save": true
        },
        "id": "-TV-di9UFtfR"
      },
      "outputs": [],
      "source": [
        "#mis imagenes son imagenes_train & imagenes_test"
      ]
    },
    {
      "cell_type": "code",
      "execution_count": null,
      "metadata": {
        "colab": {
          "background_save": true
        },
        "id": "CeaB2KT4SZF0"
      },
      "outputs": [],
      "source": [
        "!pip install imageio"
      ]
    },
    {
      "cell_type": "code",
      "execution_count": null,
      "metadata": {
        "colab": {
          "background_save": true
        },
        "id": "2JCHsl2u1YsA"
      },
      "outputs": [],
      "source": [
        "# import necesarios\n",
        "\n",
        "from keras.models import Sequential\n",
        "from keras.applications import VGG16, ResNet50\n",
        "from keras.applications.inception_v3 import preprocess_input\n",
        "from keras import optimizers, Model\n",
        "from keras.layers import Dense, Flatten, Conv2D, MaxPooling2D\n",
        "from keras.optimizers import Adam\n",
        "from keras.layers import Dropout, Flatten, Dense, Activation\n",
        "from keras.applications import imagenet_utils\n",
        "import imageio as io\n",
        "\n",
        "#inicializo con una semilla\n",
        "np.random.seed(42)\n",
        "\n",
        "input_shape = (224, 224, 3)\n",
        "\n",
        "\n",
        "#X_train = imagenes_train\n",
        "#X_test = imagenes_test\n",
        "#y_train = y_train\n",
        "#y_test = y_test"
      ]
    },
    {
      "cell_type": "code",
      "execution_count": null,
      "metadata": {
        "colab": {
          "background_save": true
        },
        "id": "kIApWg8weFq2"
      },
      "outputs": [],
      "source": [
        "#Realizamos el resize de las imagenes\n",
        "input_shape = (224, 224,3)\n",
        "\n",
        " #resize train set\n",
        "X_train_resized = []\n",
        "for img in x_train:\n",
        "  X_train_resized.append( cv2.resize(img, (224, 224))/255)\n",
        "  \n",
        "X_train_resized = np.array(X_train_resized)\n",
        "print('X_train_resized: ',X_train_resized.shape)\n",
        "\n",
        "\n",
        " #resize test set\n",
        "X_test_resized = []\n",
        "for img in x_test:\n",
        "  X_test_resized.append( cv2.resize(img, (224, 224))/255)\n",
        "  \n",
        "X_test_resized = np.array(X_test_resized)\n",
        "print('X_test_resized: ',X_test_resized.shape)"
      ]
    },
    {
      "cell_type": "code",
      "execution_count": null,
      "metadata": {
        "colab": {
          "background_save": true
        },
        "id": "QGb1gMNs90eV"
      },
      "outputs": [],
      "source": [
        "# normalizamos\n",
        "new_width = 224\n",
        "new_height = 224\n",
        "dim = (new_width, new_height)\n",
        "\n",
        "# Inicializa una lista para almacenar las imágenes redimensionadas y normalizadas\n",
        "X_train_resized = []\n",
        "\n",
        "# Recorre cada imagen en x_train\n",
        "for img in imagenes_train:\n",
        "    # Redimensiona la imagen\n",
        "    resized = cv2.resize(img, dim, interpolation = cv2.INTER_AREA)\n",
        "    \n",
        "    # Convierte la imagen en un array numpy y normaliza los valores de los pixeles\n",
        "    image_array = np.array(resized, dtype='float32') / 255.0\n",
        "\n",
        "    # Agrega la imagen redimensionada y normalizada a la lista\n",
        "    X_train_resized.append(image_array)\n",
        "    \n",
        "#Realizamos lo mismo para los datos test\n",
        "\n",
        "X_test_resized = []\n",
        "\n",
        "for img in imagenes_test:\n",
        "    \n",
        "    resized = cv2.resize(img, dim, interpolation = cv2.INTER_AREA)\n",
        "\n",
        "    # Convierte la imagen en un array numpy y normaliza los valores de los pixeles\n",
        "    image_array = np.array(resized, dtype='float32') / 255.0 \n",
        "\n",
        "    # Agrega la imagen redimensionada y normalizada a la lista\n",
        "    X_test_resized.append(image_array)\n",
        "   "
      ]
    },
    {
      "cell_type": "code",
      "execution_count": null,
      "metadata": {
        "colab": {
          "background_save": true
        },
        "id": "nCk9lG0qewNs"
      },
      "outputs": [],
      "source": [
        " print((X_train_resized))"
      ]
    },
    {
      "cell_type": "code",
      "execution_count": null,
      "metadata": {
        "colab": {
          "background_save": true
        },
        "id": "Z5_Jjs_meust"
      },
      "outputs": [],
      "source": [
        "print((X_test_resized))"
      ]
    },
    {
      "cell_type": "code",
      "execution_count": null,
      "metadata": {
        "colab": {
          "background_save": true
        },
        "id": "1LLWeCD8118X"
      },
      "outputs": [],
      "source": [
        "plt.imshow(X_test_resized[12])"
      ]
    },
    {
      "cell_type": "markdown",
      "metadata": {
        "id": "KAwqDoXHbWIn"
      },
      "source": [
        "#### Comienzo con un Trasfer Learning de VGG16 (mis muestras son poco más de 500) con todas las capas congeladas"
      ]
    },
    {
      "cell_type": "code",
      "execution_count": null,
      "metadata": {
        "colab": {
          "background_save": true
        },
        "id": "5aXNp-7myEAR"
      },
      "outputs": [],
      "source": [
        "np.random.seed(42)\n",
        "base_model = VGG16(weights='imagenet', include_top=False, input_shape=input_shape)\n",
        "base_model.summary()"
      ]
    },
    {
      "cell_type": "code",
      "execution_count": null,
      "metadata": {
        "colab": {
          "background_save": true
        },
        "id": "i4AS8ZOuyeBP"
      },
      "outputs": [],
      "source": [
        "#Congelamos todas las capas de extración de características y modificamos el clasificador\n",
        "for layer in base_model.layers: \n",
        "  layer.trainable = False\n",
        "  print('Capa ' + layer.name + ' congelada.')\n",
        "\n",
        "# cogemos la última capa del model y le añadimos nuestro clasificador (top_model)\n",
        "last = base_model.layers[-1].output\n",
        "x = Flatten()(last) #globalMaxPooling #pasar el tensor de caracteristicas a vector\n",
        "x = Dense(1000, activation='relu', name='fc1')(x)\n",
        "x = Dropout(0.3)(x) # regularización para reducir el sobreajuste\n",
        "x = Dense(1, activation='linear', name='predictions')(x) #linear multiplica por x1.0, es la indentity function\n",
        "model_cnn = Model(base_model.input, x)\n",
        "\n",
        "# compilamos el modelo\n",
        "model_cnn.compile(optimizer=Adam(lr=0.001), loss='mean_squared_error', metrics=['mse'])\n",
        "\n",
        "# vemos la estructura del modelo\n",
        "model_cnn.summary()"
      ]
    },
    {
      "cell_type": "code",
      "execution_count": null,
      "metadata": {
        "colab": {
          "background_save": true
        },
        "id": "QTJiIJxcELYT"
      },
      "outputs": [],
      "source": [
        "X_train_resized = np.array(X_train_resized)\n",
        "X_test_resized = np.array(X_test_resized)"
      ]
    },
    {
      "cell_type": "code",
      "execution_count": null,
      "metadata": {
        "colab": {
          "background_save": true
        },
        "id": "SCkG8aALz8cu"
      },
      "outputs": [],
      "source": [
        "# comenzamos con el entrenamiento\n",
        "epochs = 20\n",
        "batch_size = 128\n",
        "\n",
        "# como entrenariamos normalmente\n",
        "H_model_cnn = model_cnn.fit(X_train_resized, Y_train,\n",
        "          batch_size=batch_size,\n",
        "          validation_split=0.2,\n",
        "          epochs=epochs)\n",
        "\n",
        "# Evaluamos el modelo\n",
        "print(\"[INFO]: Evaluando red neuronal...\")\n",
        "pred_cnn = model_cnn.predict(X_test_resized, batch_size=batch_size)  #(X)\n",
        "\n",
        "model_cnn.summary()\n",
        "\n",
        "#grafico\n",
        "sns.set(style=\"darkgrid\")\n",
        "plt.figure(figsize=(6, 4))\n",
        "plt.plot(H_model_cnn.history['loss'], label='Train')\n",
        "plt.plot(H_model_cnn.history['val_loss'], label='Validation')\n",
        "plt.title('Model_cnn Loss', fontsize=18)\n",
        "plt.ylabel('Loss', fontsize=12)\n",
        "plt.xlabel('Epoch', fontsize=12)\n",
        "plt.xticks(fontsize=10)\n",
        "plt.yticks(fontsize=10)\n",
        "plt.legend(loc='middle right', fontsize=10)\n",
        "sns.despine()\n",
        "plt.show()"
      ]
    },
    {
      "cell_type": "code",
      "execution_count": null,
      "metadata": {
        "colab": {
          "background_save": true
        },
        "id": "yaKyqD3T2OwN"
      },
      "outputs": [],
      "source": [
        "#calculo el mse y el mae del modelo\n",
        "max_Y = Y_train.max()\n",
        "pred_cnn_denorm = pred_cnn \n",
        "y_test_denorm = y_test * max_Y\n",
        "\n",
        "rmse = mean_squared_error(y_true  = y_test_denorm, y_pred  = pred_cnn_denorm,squared = False)\n",
        "print(f\"El error cuadrático medio (rmse) de test es: {rmse}\")\n",
        "\n",
        "mae = mean_absolute_error(y_test_denorm, pred_cnn_denorm)\n",
        "print(f\"El error aboluto(mae) de test es: {mae}\")\n"
      ]
    },
    {
      "cell_type": "code",
      "execution_count": null,
      "metadata": {
        "colab": {
          "background_save": true
        },
        "id": "-ZtBilvV2OwN"
      },
      "outputs": [],
      "source": [
        "#calculamos las perdidas del modelo\n",
        "scores = model_cnn.evaluate(X_test_resized, Y_test, verbose=1)\n",
        "print('Test loss:', scores[0])\n"
      ]
    },
    {
      "cell_type": "markdown",
      "metadata": {
        "id": "0Hkn84Efb9Y2"
      },
      "source": [
        "#### Empiezo a descongelar capas"
      ]
    },
    {
      "cell_type": "markdown",
      "metadata": {
        "id": "I4zKEq9wHzON"
      },
      "source": [
        "#### voy a aplicar Fine Tuning "
      ]
    },
    {
      "cell_type": "code",
      "execution_count": null,
      "metadata": {
        "colab": {
          "background_save": true
        },
        "id": "gUm-cThyZrs1"
      },
      "outputs": [],
      "source": [
        "#inicializo con una semilla\n",
        "np.random.seed(42)\n",
        "input_shape = (224, 224, 3)\n",
        "\n",
        "bm_FT = VGG16(weights='imagenet', include_top=False, input_shape=input_shape)\n",
        "bm_FT.summary()"
      ]
    },
    {
      "cell_type": "code",
      "execution_count": null,
      "metadata": {
        "colab": {
          "background_save": true
        },
        "id": "X2VAFYXG23jq"
      },
      "outputs": [],
      "source": [
        "np.random.seed(42)\n",
        "# Hago Fine Tuning, Descongelo la ultima capa convolucional\n",
        "from keras.regularizers import l2\n",
        "\n",
        "for layer in bm_FT.layers:\n",
        "  if layer.name == 'block5_conv1': #descongelo el bloque 5\n",
        "    break\n",
        "  layer.trainable = False\n",
        "  print('Capa ' + layer.name + ' congelada.')\n",
        "\n",
        "# cogemos la última capa del model y le añadimos nuestro clasificador (top_model)\n",
        "last = bm_FT.layers[-1].output\n",
        "x = Flatten()(last)\n",
        "x = Dense(1000, activation='relu', name='fc1')(x) \n",
        "x = Dropout(0.3)(x)\n",
        "x = Dense(1, activation='linear', name='predictions')(x)#linear multiplica por x1.0, es la indentity function\n",
        "model_FT = Model(bm_FT.input, x)\n",
        "\n",
        "# compilamos el modelo\n",
        "model_FT.compile(optimizer=Adam(lr=0.001), loss='mse', metrics=['mse'])\n",
        "\n",
        "# vemos la nueva estructura del modelo\n",
        "model_FT.summary()"
      ]
    },
    {
      "cell_type": "code",
      "execution_count": null,
      "metadata": {
        "colab": {
          "background_save": true
        },
        "id": "HlbvMfFv3Qs8"
      },
      "outputs": [],
      "source": [
        "#entreno de nuevo\n",
        "\n",
        "# como entrenariamos normalmente\n",
        "H_model_FT = model_FT.fit(X_train_resized, Y_train,\n",
        "          batch_size=batch_size,\n",
        "          validation_split=0.2,\n",
        "          epochs=20)\n",
        "\n",
        "# Evaluamos el modelo\n",
        "print(\"[INFO]: Evaluando red neuronal...\")\n",
        "pred_FT = model_FT.predict(X_test_resized, batch_size=128)  #(X)\n",
        "\n",
        "model_FT.summary()\n",
        "\n",
        "#grafico\n",
        "sns.set(style=\"darkgrid\")\n",
        "plt.figure(figsize=(6, 4))\n",
        "plt.plot(H_model_FT.history['loss'], label='Train')\n",
        "plt.plot(H_model_FT.history['val_loss'], label='Validation')\n",
        "plt.title('Model_FT Loss', fontsize=18)\n",
        "plt.ylabel('Loss', fontsize=12)\n",
        "plt.xlabel('Epoch', fontsize=12)\n",
        "plt.xticks(fontsize=10)\n",
        "plt.yticks(fontsize=10)\n",
        "plt.legend(loc='middle right', fontsize=10)\n",
        "sns.despine()\n",
        "plt.show()"
      ]
    },
    {
      "cell_type": "code",
      "execution_count": null,
      "metadata": {
        "colab": {
          "background_save": true
        },
        "id": "-PgToLKK4IkE"
      },
      "outputs": [],
      "source": [
        "#calculo el mse y el mae del modelo\n",
        "max_Y = Y_train.max()\n",
        "pred_FT_denorm = pred_FT\n",
        "y_test_denorm = y_test * max_Y\n",
        "\n",
        "rmse = mean_squared_error(y_true  = y_test_denorm, y_pred  = pred_FT_denorm,squared = False)\n",
        "print(f\"El error cuadrático medio (rmse) de test es: {rmse}\")\n",
        "\n",
        "mae = mean_absolute_error(y_test_denorm, pred_FT_denorm)\n",
        "print(f\"El error aboluto(mae) de test es: {mae}\")\n"
      ]
    },
    {
      "cell_type": "code",
      "execution_count": null,
      "metadata": {
        "colab": {
          "background_save": true
        },
        "id": "4j2zQ5YZ3i2E"
      },
      "outputs": [],
      "source": [
        "# comprobamos el loss en el test set\n",
        "scores = model_FT.evaluate(X_test_resized, Y_test, verbose=1)\n",
        "print('Test loss:', scores[0])\n",
        "\n"
      ]
    },
    {
      "cell_type": "markdown",
      "metadata": {
        "id": "8cgkfX59ZzcN"
      },
      "source": [
        "##### voy a modificar los parámetros a ver si mejora"
      ]
    },
    {
      "cell_type": "markdown",
      "metadata": {
        "id": "5hP6ruuIpz-C"
      },
      "source": [
        "##### Pruebo a descongelar el penúltimo bloque a ver si mejora"
      ]
    },
    {
      "cell_type": "code",
      "execution_count": null,
      "metadata": {
        "colab": {
          "background_save": true
        },
        "id": "0m-TQiJRqA2-"
      },
      "outputs": [],
      "source": [
        "#inicializo con una semilla\n",
        "np.random.seed(42)\n",
        "input_shape = (224, 224, 3)\n",
        "\n",
        "bm_FT2 = VGG16(weights='imagenet', include_top=False, input_shape=input_shape)\n",
        "bm_FT2.summary()"
      ]
    },
    {
      "cell_type": "code",
      "execution_count": null,
      "metadata": {
        "colab": {
          "background_save": true
        },
        "id": "KdkIJjQ5qA2_"
      },
      "outputs": [],
      "source": [
        "# Descongelo otra capa convolucional\n",
        "#from keras.regularizers import l2\n",
        "\n",
        "for layer in bm_FT2.layers:\n",
        "  if layer.name == 'block4_conv1': \n",
        "    break\n",
        "  layer.trainable = False\n",
        "  print('Capa ' + layer.name + ' congelada.')\n",
        "\n",
        "# cogemos la penúltima capa del model y le añadimos nuestro clasificador (top_model)\n",
        "last = bm_FT2.layers[-1].output\n",
        "x = Flatten()(last)\n",
        "x = Dense(1000, activation='relu', name='fc1')(x)\n",
        "x = Dropout(0.3)(x)\n",
        "x = Dense(1, activation='linear', name='predictions')(x)#linear multiplica por x1.0, es la indentity function\n",
        "model_FT2 = Model(bm_FT2.input, x)\n",
        "\n",
        "# compilamos el modelo\n",
        "model_FT2.compile(optimizer=Adam(lr=0.001), loss='mean_squared_error', metrics=['mse'])\n",
        "\n",
        "# vemos la nueva estructura del modelo\n",
        "model_FT2.summary()"
      ]
    },
    {
      "cell_type": "code",
      "execution_count": null,
      "metadata": {
        "colab": {
          "background_save": true
        },
        "id": "RNTEHkuGqA2_"
      },
      "outputs": [],
      "source": [
        "#entreno de nuevo\n",
        "\n",
        "# como entrenariamos normalmente\n",
        "H_model_FT2 = model_FT2.fit(X_train_resized, Y_train,\n",
        "          batch_size=batch_size,\n",
        "          validation_split=0.2,\n",
        "          epochs=20) #aumento las epocas a lo bestia a ver si mejora \n",
        "\n",
        "# Evaluamos el modelo\n",
        "print(\"[INFO]: Evaluando red neuronal...\")\n",
        "pred_FT2 = model_FT2.predict(X_test_resized, batch_size=128)  #(X) \n",
        "\n",
        "model_FT2.summary()\n",
        "\n",
        "#grafico\n",
        "sns.set(style=\"darkgrid\")\n",
        "plt.figure(figsize=(6, 4))\n",
        "plt.plot(H_model_FT2.history['loss'], label='Train')\n",
        "plt.plot(H_model_FT2.history['val_loss'], label='Validation')\n",
        "plt.title('Model_FT2 Loss', fontsize=18)\n",
        "plt.ylabel('Loss', fontsize=12)\n",
        "plt.xlabel('Epoch', fontsize=12)\n",
        "plt.xticks(fontsize=10)\n",
        "plt.yticks(fontsize=10)\n",
        "plt.legend(loc='middle right', fontsize=10)\n",
        "sns.despine()\n",
        "plt.show()"
      ]
    },
    {
      "cell_type": "code",
      "execution_count": null,
      "metadata": {
        "colab": {
          "background_save": true
        },
        "id": "aUkrQc1b5IrM"
      },
      "outputs": [],
      "source": [
        "#calculo el mse y el mae del modelo\n",
        "max_Y = Y_train.max()\n",
        "pred_FT2_denorm = pred_FT2\n",
        "y_test_denorm = y_test * max_Y\n",
        "\n",
        "rmse = mean_squared_error(y_true  = y_test_denorm, y_pred  = pred_FT2_denorm,squared = False)\n",
        "print(f\"El error cuadrático medio (rmse) de test es: {rmse}\")\n",
        "\n",
        "mae = mean_absolute_error(y_test_denorm, pred_FT2_denorm)\n",
        "print(f\"El error aboluto(mae) de test es: {mae}\")\n"
      ]
    },
    {
      "cell_type": "markdown",
      "metadata": {
        "id": "sDta3kSdwCMf"
      },
      "source": [
        "##### Aquí me empeora el modelo, no voy a seguir descongelando capas, me quedo con el modelo anterior model_FT con solo el último bloque convolucional descongelado. Muestro los mejores resultados que he obtenido hasta ahora."
      ]
    },
    {
      "cell_type": "code",
      "execution_count": null,
      "metadata": {
        "colab": {
          "background_save": true
        },
        "id": "6Vc43wnfvWTZ"
      },
      "outputs": [],
      "source": [
        "#calculo el mse y el mae del modelo\n",
        "max_Y = Y_train.max()\n",
        "pred_FT_denorm = pred_FT\n",
        "y_test_denorm = y_test * max_Y\n",
        "\n",
        "rmse = mean_squared_error(y_true  = y_test_denorm, y_pred  = pred_FT_denorm,squared = False)\n",
        "print(f\"El error cuadrático medio (rmse) de test es: {rmse}\")\n",
        "\n",
        "mae = mean_absolute_error(y_test_denorm, pred_FT_denorm)\n",
        "print(f\"El error aboluto(mae) de test es: {mae}\")\n"
      ]
    },
    {
      "cell_type": "code",
      "execution_count": null,
      "metadata": {
        "colab": {
          "background_save": true
        },
        "id": "0FwXRSQtFGqI"
      },
      "outputs": [],
      "source": [
        "# comprobamos el loss en el test set\n",
        "scores = model_FT.evaluate(X_test_resized, Y_test, verbose=1)\n",
        "print('Test loss:', scores[0])\n"
      ]
    },
    {
      "cell_type": "markdown",
      "metadata": {
        "id": "AzDp0W4vn-Cv"
      },
      "source": [
        "##### Voy a probar con hyperopt a buscar los parámetros óptimos"
      ]
    },
    {
      "cell_type": "markdown",
      "metadata": {
        "id": "esvn_lDBxqHT"
      },
      "source": [
        "##### Mejoro el modelo usando hyperot"
      ]
    },
    {
      "cell_type": "code",
      "execution_count": null,
      "metadata": {
        "colab": {
          "background_save": true
        },
        "id": "5iwi8Bvl5SBX"
      },
      "outputs": [],
      "source": [
        "# instalamos los paquetes necesarios\n",
        "!pip install networkx==1.11 # para instala hyperopt correctamente, si no, da errores\n",
        "!pip install hyperopt"
      ]
    },
    {
      "cell_type": "code",
      "execution_count": null,
      "metadata": {
        "colab": {
          "background_save": true
        },
        "id": "Gr3y7bIN6j5K"
      },
      "outputs": [],
      "source": [
        "# imports necesarios\n",
        "import sys\n",
        "import time\n",
        "from hyperopt import fmin, tpe, hp, STATUS_OK, Trials\n",
        "from keras.models import Sequential\n",
        "from keras.layers import Dense, Dropout, Activation, Flatten\n",
        "from keras.layers import Conv2D, MaxPooling2D\n",
        "from keras.optimizers import Adam\n",
        "from keras.callbacks import EarlyStopping"
      ]
    },
    {
      "cell_type": "code",
      "execution_count": null,
      "metadata": {
        "colab": {
          "background_save": true
        },
        "id": "l1mEJAU2vfOC"
      },
      "outputs": [],
      "source": [
        "X_train_resized = np.array(X_train_resized)\n",
        "X_test_resized = np.array(X_test_resized)"
      ]
    },
    {
      "cell_type": "code",
      "execution_count": null,
      "metadata": {
        "colab": {
          "background_save": true
        },
        "id": "KA3ujl0qyCp7"
      },
      "outputs": [],
      "source": [
        "np.random.seed(42)\n",
        "# definimos nuestro espacio de búsqueda\n",
        "# vamos a variar:\n",
        "# - el número de filtros en nuestras capas conv\n",
        "# - el porcentaje de dropout\n",
        "# - el número de neuronas en la capa dense\n",
        "space = {\n",
        "    'learning_rate': hp.choice('lr', [0.05, 0.001, 0.0001]),\n",
        "    'dropout': hp.uniform('dropout', 0.0, 0.5),\n",
        "    'neurons_dense': hp.choice('neurons_dense', [256, 512, 1024]), \n",
        "}\n",
        "\n",
        "def\tget_callbacks(pars):\n",
        "  callbacks\t= [EarlyStopping(monitor='val_loss', min_delta=0.0001, patience=2, verbose=0, mode='auto')]\n",
        "  return callbacks\n",
        "\n",
        "def mi_cnn(pars):\n",
        "  print ('Parameters: ', pars)\n",
        "  model = Sequential()\n",
        "  # creamos el modelo base\n",
        "  base_model = VGG16(weights='imagenet', include_top=False, input_shape=input_shape)\n",
        "\n",
        "  # vamos a entrenar la ultima capa conv para ver si mejoramos los datos\n",
        "  for layer in base_model.layers:\n",
        "    if layer.name == 'block5_conv1':\n",
        "      break\n",
        "  layer.trainable = False\n",
        "  print('Capa ' + layer.name + ' congelada.')\n",
        "\n",
        "\n",
        "# cogemos la última capa del model y le añadimos nuestro clasificador (top_model)\n",
        "  last = base_model.layers[-1].output\n",
        "  x = Flatten()(last)\n",
        "  x = Dense(pars[\"neurons_dense\"], activation='relu', name='fc1')(x)\n",
        "  x = Dropout(pars['dropout'])(x)\n",
        "  x = Dense(1, activation='sigmoid', name='predictions')(x)\n",
        "  model = Model(base_model.input, x)\n",
        "\n",
        "# compilamos el modelo\n",
        "  model.compile(optimizer=Adam(lr=pars[\"learning_rate\"]), loss='mse', metrics=['mse'])\n",
        "\n",
        "# vemos la nueva estructura del modelo\n",
        "  model.summary()\n",
        "\n",
        "  \n",
        "  # Entrenamos el modelo\n",
        "  history = model.fit(X_train_resized, \n",
        "                      y_train,\n",
        "                      batch_size=50,\n",
        "                      shuffle=True,\n",
        "                      epochs=8,\n",
        "                      validation_split=0.2,\n",
        "                      verbose = 0,\n",
        "                      callbacks = get_callbacks(pars))\n",
        "\n",
        "  best_epoch_loss = np.argmin(history.history['val_loss'])\n",
        "  best_val_loss = np.min(history.history['val_loss'])\n",
        "\n",
        "  \n",
        "  print('Epoch {}  - val loss: {}'.format(best_epoch_loss, best_val_loss))\n",
        "  sys.stdout.flush()\n",
        "  \n",
        "  return {'loss': best_val_loss, 'best_epoch': best_epoch_loss, 'eval_time': time.time(), 'status': STATUS_OK, 'model': model, 'history': history}\n",
        "\n",
        "\n",
        "trials = Trials()\n",
        "best = fmin(mi_cnn, space, algo=tpe.suggest, max_evals=10, trials=trials)\n",
        "print(best)"
      ]
    },
    {
      "cell_type": "code",
      "execution_count": null,
      "metadata": {
        "colab": {
          "background_save": true
        },
        "id": "5v-qflxDLC5R"
      },
      "outputs": [],
      "source": [
        "trials.losses()"
      ]
    },
    {
      "cell_type": "code",
      "execution_count": null,
      "metadata": {
        "colab": {
          "background_save": true
        },
        "id": "0ux4rtq1OW3n"
      },
      "outputs": [],
      "source": [
        "print('El mejor conjunto de hiperarámetros tiene un loss: 0.00816590990871191,, y es:') \n",
        "print('\\n dropout: 0.2031793781184285, learning_rate: 0.0001, neurons_dense: 256\\n' )\n"
      ]
    },
    {
      "cell_type": "markdown",
      "metadata": {
        "id": "ylfeSVgeCe2y"
      },
      "source": [
        "#### entreno el modelo bueno con los hiperparámetros que me ha dado el hyperot"
      ]
    },
    {
      "cell_type": "code",
      "execution_count": null,
      "metadata": {
        "colab": {
          "background_save": true
        },
        "id": "DyA2FD28CcpK"
      },
      "outputs": [],
      "source": [
        "#inicializo con una semilla\n",
        "np.random.seed(42)\n",
        "input_shape = (224, 224, 3)\n",
        "\n",
        "bm_cnn_hp = VGG16(weights='imagenet', include_top=False, input_shape=input_shape)\n",
        "bm_cnn_hp.summary()"
      ]
    },
    {
      "cell_type": "code",
      "execution_count": null,
      "metadata": {
        "colab": {
          "background_save": true
        },
        "id": "nTA1oyBmCcpL"
      },
      "outputs": [],
      "source": [
        "# Hago Fine Tuning, Descongelo la ultima capa convolucional\n",
        "from keras.regularizers import l2\n",
        "\n",
        "for layer in bm_cnn_hp.layers:\n",
        "  if layer.name == 'block5_conv1': #descongelo el bloque 5\n",
        "    break\n",
        "  layer.trainable = False\n",
        "  print('Capa ' + layer.name + ' congelada.')\n",
        "\n",
        "# cogemos la última capa del model y le añadimos nuestro clasificador (top_model)\n",
        "last = bm_cnn_hp.layers[-1].output\n",
        "x = Flatten()(last)\n",
        "x = Dense(256, activation='relu', name='fc1')(x) \n",
        "x = Dropout(0.20)(x)\n",
        "x = Dense(1, activation='linear', name='predictions')(x)#linear multiplica por x1.0, es la indentity function\n",
        "model_cnn_hp = Model(bm_cnn_hp.input, x)\n",
        "\n",
        "# compilamos el modelo\n",
        "model_cnn_hp.compile(optimizer=Adam(lr=0.0001), loss='mse', metrics=['mse'])\n",
        "\n",
        "# vemos la nueva estructura del modelo\n",
        "model_cnn_hp.summary()"
      ]
    },
    {
      "cell_type": "code",
      "execution_count": null,
      "metadata": {
        "colab": {
          "background_save": true
        },
        "id": "adpu9q_SCcpL"
      },
      "outputs": [],
      "source": [
        "#entreno de nuevo\n",
        "\n",
        "# como entrenariamos normalmente\n",
        "H_cnn_hp = model_cnn_hp.fit(X_train_resized, Y_train,\n",
        "          batch_size=batch_size,\n",
        "          validation_split=0.2,\n",
        "          epochs=20)\n",
        "\n",
        "# Evaluamos el modelo\n",
        "print(\"[INFO]: Evaluando red neuronal...\")\n",
        "pred_hp = model_cnn_hp.predict(X_test_resized, batch_size=128)  #(X)\n",
        "\n",
        "model_cnn_hp.summary()\n",
        "\n",
        "#grafico\n",
        "sns.set(style=\"darkgrid\")\n",
        "plt.figure(figsize=(6, 4))\n",
        "plt.plot(H_cnn_hp.history['loss'], label='Train')\n",
        "plt.plot(H_cnn_hp.history['val_loss'], label='Validation')\n",
        "plt.title('Model_FT Loss', fontsize=18)\n",
        "plt.ylabel('Loss', fontsize=12)\n",
        "plt.xlabel('Epoch', fontsize=12)\n",
        "plt.xticks(fontsize=10)\n",
        "plt.yticks(fontsize=10)\n",
        "plt.legend(loc='middle right', fontsize=10)\n",
        "sns.despine()\n",
        "plt.show()"
      ]
    },
    {
      "cell_type": "code",
      "execution_count": null,
      "metadata": {
        "colab": {
          "background_save": true
        },
        "id": "Jfg1h06f78UB"
      },
      "outputs": [],
      "source": [
        "# comprobamos el loss en el test set\n",
        "scores = model_cnn_hp.evaluate(X_test_resized, Y_test, verbose=1)\n",
        "print('Test loss:', scores[0])\n"
      ]
    },
    {
      "cell_type": "code",
      "execution_count": null,
      "metadata": {
        "colab": {
          "background_save": true
        },
        "id": "cDBoKyu578UA"
      },
      "outputs": [],
      "source": [
        "#calculo el mse y el mae del modelo\n",
        "max_Y = Y_train.max()\n",
        "pred_lm_denorm = pred_hp\n",
        "y_test_denorm = y_test * max_Y\n",
        "\n",
        "rmse = mean_squared_error(y_true  = y_test_denorm, y_pred  = pred_lm_denorm,squared = False)\n",
        "print(f\"El error cuadrático medio (rmse) de test es: {rmse}\")\n",
        "\n",
        "mae = mean_absolute_error(y_test_denorm, pred_lm_denorm)\n",
        "print(f\"El error aboluto(mae) de test es: {mae}\")\n"
      ]
    },
    {
      "cell_type": "markdown",
      "metadata": {
        "id": "OzT80xB-gdth"
      },
      "source": [
        "Hyperopt me mejora el mse, a costa de empeorar el mae. Siguen siendo unos valores altos de error."
      ]
    },
    {
      "cell_type": "markdown",
      "metadata": {
        "id": "N_mCdtqScQAZ"
      },
      "source": [
        "## Modelo híbrido"
      ]
    },
    {
      "cell_type": "code",
      "execution_count": null,
      "metadata": {
        "colab": {
          "background_save": true
        },
        "id": "Haf8QnRRgPP1"
      },
      "outputs": [],
      "source": [
        "#remember de mis datos\n",
        "#x_train, train normalizado\n",
        "#x_test, test normalizado\n",
        "\n",
        "#y_train, etiquetas norm\n",
        "#y_test, etiquetas norm\n",
        "\n",
        "#X_train_resized, imagenes norm\n",
        "#X_test_resized, imagenes norm"
      ]
    },
    {
      "cell_type": "code",
      "execution_count": null,
      "metadata": {
        "colab": {
          "background_save": true
        },
        "id": "JICUWuvS3XGm"
      },
      "outputs": [],
      "source": [
        "!pip install -q keras"
      ]
    },
    {
      "cell_type": "code",
      "execution_count": null,
      "metadata": {
        "colab": {
          "background_save": true
        },
        "id": "nJiKZ_wx76tv"
      },
      "outputs": [],
      "source": [
        "!pip install imutils"
      ]
    },
    {
      "cell_type": "code",
      "execution_count": null,
      "metadata": {
        "colab": {
          "background_save": true
        },
        "id": "tBMFiD7qIK07"
      },
      "outputs": [],
      "source": [
        "# importar los paquetes necesarios\n",
        "import tensorflow as tf\n",
        "from tensorflow import keras\n",
        "from keras.layers import BatchNormalization\n",
        "from keras.layers import concatenate\n",
        "from keras.layers import Input, concatenate\n",
        "from keras.models import Model\n",
        "from keras.optimizers import Adam\n",
        "import cv2 \n",
        "import imutils\n",
        "#from pyimagesearch import datasets\n",
        "#from pyimagesearch import models\n",
        "import argparse\n",
        "import locale\n",
        "import os"
      ]
    },
    {
      "cell_type": "markdown",
      "metadata": {
        "id": "yAf_UVDFdR5_"
      },
      "source": [
        "##### Modelo híbrido básico "
      ]
    },
    {
      "cell_type": "code",
      "execution_count": null,
      "metadata": {
        "colab": {
          "background_save": true
        },
        "id": "-Q_OBYE0b_9f"
      },
      "outputs": [],
      "source": [
        "np.random.seed(42)\n",
        "#Inputs MLP\n",
        "inputs_mlp = Input(shape=(9,))\n",
        "x_mlp1 = Dense(64, activation='relu', bias_initializer='zeros')(inputs_mlp)\n",
        "x_mlp2 = Dense(3, activation='relu')(x_mlp1)\n",
        "\n",
        "\n",
        "#Imputs CNN\n",
        "#inputs_cnn = Input(shape=(224, 224, 3))\n",
        "base_model = VGG16(weights='imagenet', include_top=False, input_shape=(224, 224, 3))\n",
        "\n",
        "for layer in base_model.layers:\n",
        "  if layer.name == 'block5_conv1':\n",
        "    break\n",
        "  layer.trainable = False\n",
        "# cogemos la última capa del model y le añadimos nuestro clasificador (top_model)\n",
        "last = base_model.layers[-1].output\n",
        "x1 = Conv2D(9, (3,3), activation='relu')(last)\n",
        "x2 = MaxPooling2D(pool_size=(2,2)) (x1)  #aquí dejo mis 9 neuronas a 3\n",
        "x3 = Flatten()(x2) #paso a vector"
      ]
    },
    {
      "cell_type": "code",
      "execution_count": null,
      "metadata": {
        "colab": {
          "background_save": true
        },
        "id": "tEOS36pUdNvD"
      },
      "outputs": [],
      "source": [
        "#concat of inputs\n",
        "combinedInput = concatenate([x_mlp2,x3])\n",
        "# output \n",
        "output = Dense (1, activation='linear') (combinedInput)"
      ]
    },
    {
      "cell_type": "code",
      "execution_count": null,
      "metadata": {
        "colab": {
          "background_save": true
        },
        "id": "HGIL8ED0dNvE"
      },
      "outputs": [],
      "source": [
        "#Definir el modelo\n",
        "model_hib= Model(inputs=[inputs_mlp, base_model.input], outputs=output)\n"
      ]
    },
    {
      "cell_type": "code",
      "execution_count": null,
      "metadata": {
        "colab": {
          "background_save": true
        },
        "id": "mYB9AjIu-fLi"
      },
      "outputs": [],
      "source": [
        "#optimizador\n",
        "opt = Adam(lr=1e-3, decay=1e-3 / 20)\n",
        "\n",
        "# Compilación del modelo\n",
        "model_hib.compile(loss='mse', optimizer=opt)"
      ]
    },
    {
      "cell_type": "code",
      "execution_count": null,
      "metadata": {
        "colab": {
          "background_save": true
        },
        "id": "fk70zZ9Z-yMh"
      },
      "outputs": [],
      "source": [
        "# train the model\n",
        "H_hib= model_hib.fit([X_train_norm, X_train_resized], y_train, epochs=20, batch_size=128, validation_split=0.2)"
      ]
    },
    {
      "cell_type": "code",
      "execution_count": null,
      "metadata": {
        "colab": {
          "background_save": true
        },
        "id": "2kHdgHYun6CT"
      },
      "outputs": [],
      "source": [
        "# make predictions on the testing data\n",
        "print(\"[INFO] predicting house prices...\")\n",
        "preds_hib= model_hib.predict([x_test, X_test_resized])\n",
        "\n",
        "diff = preds_hib.flatten() - y_test\n",
        "percentDiff = (diff / y_test) * 100\n",
        "absPercentDiff = np. abs(diff)\n",
        "print(absPercentDiff.mean())\n",
        "\n",
        "model_hib.summary()\n",
        "\n",
        "#grafico\n",
        "sns.set(style=\"darkgrid\")\n",
        "plt.figure(figsize=(6, 4))\n",
        "plt.plot(H_hib.history['loss'], label='Train')\n",
        "plt.plot(H_hib.history['val_loss'], label='Validation')\n",
        "plt.title('Model_hib Loss', fontsize=18)\n",
        "plt.ylabel('Loss', fontsize=12)\n",
        "plt.xlabel('Epoch', fontsize=12)\n",
        "plt.xticks(fontsize=10)\n",
        "plt.yticks(fontsize=10)\n",
        "plt.legend(loc='middle right', fontsize=10)\n",
        "sns.despine()\n",
        "plt.show()"
      ]
    },
    {
      "cell_type": "code",
      "execution_count": null,
      "metadata": {
        "colab": {
          "background_save": true
        },
        "id": "kdKbMW0eGkbZ"
      },
      "outputs": [],
      "source": [
        "print('mean: ', np.mean(absPercentDiff))\n",
        "print('desviación standard: ', np.std(absPercentDiff))\n"
      ]
    },
    {
      "cell_type": "code",
      "execution_count": null,
      "metadata": {
        "colab": {
          "background_save": true
        },
        "id": "mqfX5PEjdBU4"
      },
      "outputs": [],
      "source": [
        "#desnormalizo el resultado para ver el precio en eur en lo que nos estamos confundiendo\n",
        "pred_desnorm=preds_hib*max_Y\n",
        "\n",
        "diff = list(flatten(pred_desnorm)) - (y_test*max_Y)\n",
        "absPercentDiff = np. abs(diff)\n",
        "print(\"El error medio en EUR\",absPercentDiff.mean())\n"
      ]
    },
    {
      "cell_type": "code",
      "execution_count": null,
      "metadata": {
        "colab": {
          "background_save": true
        },
        "id": "2ozPpFDRGluh"
      },
      "outputs": [],
      "source": [
        "#calculo el mse y el mae del modelo\n",
        "max_Y = Y_train.max()\n",
        "pred_hib_denorm = preds_hib\n",
        "y_test_denorm = y_test * max_Y\n",
        "\n",
        "rmse = mean_squared_error(y_true  = y_test_denorm, y_pred  = pred_hib_denorm,squared = False)\n",
        "print(f\"El error cuadrático medio (rmse) de test es: {rmse}\")\n",
        "\n",
        "mae = mean_absolute_error(y_test_denorm, pred_hib_denorm)\n",
        "print(f\"El error aboluto(mae) de test es: {mae}\")\n"
      ]
    },
    {
      "cell_type": "markdown",
      "metadata": {
        "id": "U84Gt0jqLe7Q"
      },
      "source": [
        "#### Los valores son muy malos, voy a ver que resultados me da usando flatten como en mi CNN"
      ]
    },
    {
      "cell_type": "code",
      "execution_count": null,
      "metadata": {
        "colab": {
          "background_save": true
        },
        "id": "TWYbGrqSXK5m"
      },
      "outputs": [],
      "source": [
        "np.random.seed(42)\n",
        "#Inputs MLP\n",
        "inputs_mlp1 = Input(shape=(9,)) \n",
        "x1_mlp1 = Dense(64, activation='relu',kernel_initializer='random_uniform', bias_initializer='zeros')(inputs_mlp)\n",
        "x1_mlp2 = Dense(3, activation='relu')(x1_mlp1)\n",
        "\n",
        "#Imputs CNN\n",
        "base_model1 = VGG16(weights='imagenet', include_top=False, input_shape=(224, 224, 3))\n",
        "\n",
        "for layer in base_model1.layers:\n",
        "  if layer.name == 'block5_conv1':\n",
        "    break\n",
        "  layer.trainable = False\n",
        "# cogemos la última capa del model y le añadimos nuestro clasificador (top_model)\n",
        "last = base_model1.layers[-1].output\n",
        "x1 = Flatten()(last)\n",
        "x2 = Dense(1000, activation='relu')(x1)\n",
        "x3 = Dense(128, activation='relu', name='fc1')(x2)\n",
        "x4 = Dropout(0.3)(x3)\n",
        "x5 = Dense(3, activation='relu')(x4)"
      ]
    },
    {
      "cell_type": "code",
      "execution_count": null,
      "metadata": {
        "colab": {
          "background_save": true
        },
        "id": "6BZAoKEaXnVV"
      },
      "outputs": [],
      "source": [
        "#concat of inputs\n",
        "combinedInput1 = concatenate([x1_mlp2,x5])\n",
        "# output \n",
        "output1 = Dense (1, activation='linear') (combinedInput1)\n",
        "\n",
        "#Definir el modelo\n",
        "model_hib1= Model(inputs=[inputs_mlp, base_model1.input], outputs=output1)\n"
      ]
    },
    {
      "cell_type": "code",
      "execution_count": null,
      "metadata": {
        "colab": {
          "background_save": true
        },
        "id": "V-e33r0FJTgv"
      },
      "outputs": [],
      "source": [
        "#optimizador\n",
        "opt1 = Adam(lr=1e-3, decay=1e-3 / 20)\n",
        "\n",
        "# Compilación del modelo\n",
        "model_hib1.compile(loss='mse', optimizer=opt1)"
      ]
    },
    {
      "cell_type": "code",
      "execution_count": null,
      "metadata": {
        "colab": {
          "background_save": true
        },
        "id": "M50Sk_aBJTgv"
      },
      "outputs": [],
      "source": [
        "# train the model\n",
        "H_hib1= model_hib1.fit([X_train_norm, X_train_resized], y_train, epochs=20, batch_size=128, validation_split=0.2)"
      ]
    },
    {
      "cell_type": "code",
      "execution_count": null,
      "metadata": {
        "colab": {
          "background_save": true
        },
        "id": "jI5VjXGwJTgw"
      },
      "outputs": [],
      "source": [
        "# make predictions on the testing data\n",
        "print(\"[INFO] predicting house prices...\")\n",
        "preds_hib1= model_hib1.predict([x_test, X_test_resized])\n",
        "\n",
        "diff1 = preds_hib1.flatten() - y_test\n",
        "percentDiff1 = (diff1 / y_test) * 100\n",
        "absPercentDiff1 = np. abs(diff1)\n",
        "print(absPercentDiff1.mean())\n",
        "\n",
        "model_hib1.summary()\n",
        "\n",
        "#grafico\n",
        "sns.set(style=\"darkgrid\")\n",
        "plt.figure(figsize=(6, 4))\n",
        "plt.plot(H_hib1.history['loss'], label='Train')\n",
        "plt.plot(H_hib1.history['val_loss'], label='Validation')\n",
        "plt.title('Model_Hib1 Loss', fontsize=18)\n",
        "plt.ylabel('Loss', fontsize=12)\n",
        "plt.xlabel('Epoch', fontsize=12)\n",
        "plt.xticks(fontsize=10)\n",
        "plt.yticks(fontsize=10)\n",
        "plt.legend(loc='middle right', fontsize=10)\n",
        "sns.despine()\n",
        "plt.show()"
      ]
    },
    {
      "cell_type": "code",
      "execution_count": null,
      "metadata": {
        "colab": {
          "background_save": true
        },
        "id": "z_MI4zc_Jxfg"
      },
      "outputs": [],
      "source": [
        "print('mean: ', np.mean(absPercentDiff1))\n",
        "print('desviación standard: ', np.std(absPercentDiff1))\n"
      ]
    },
    {
      "cell_type": "code",
      "execution_count": null,
      "metadata": {
        "colab": {
          "background_save": true
        },
        "id": "vtb9gsKSchdE"
      },
      "outputs": [],
      "source": [
        "#desnormalizo el resultado para ver el precio en eur en lo que nos estamos confundiendo\n",
        "pred_desnorm1=preds_hib1*max_Y\n",
        "\n",
        "diff1 = list(flatten(pred_desnorm1)) - (y_test*max_Y)\n",
        "absPercentDiff1 = np. abs(diff1)\n",
        "print(\"El error medio en EUR\",absPercentDiff1.mean())\n"
      ]
    },
    {
      "cell_type": "markdown",
      "metadata": {
        "id": "Eqbz4OB1TNV9"
      },
      "source": [
        "#### He obtenido mejores resultados utilizando densas y añadiento un dropout, ya que el maxpooling lo lleva el VGG16, creo que es más óptimo usar Dropout entre las densas. Considero que un error de 28 no es un valor muy alto por lo que aquí finalizo el estudio"
      ]
    }
  ],
  "metadata": {
    "accelerator": "GPU",
    "colab": {
      "machine_shape": "hm",
      "provenance": [],
      "include_colab_link": true
    },
    "gpuClass": "premium",
    "kernelspec": {
      "display_name": "Python 3",
      "name": "python3"
    },
    "language_info": {
      "name": "python"
    }
  },
  "nbformat": 4,
  "nbformat_minor": 0
}